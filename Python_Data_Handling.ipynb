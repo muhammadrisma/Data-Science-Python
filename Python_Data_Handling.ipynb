{
  "nbformat": 4,
  "nbformat_minor": 0,
  "metadata": {
    "colab": {
      "name": "Python Data Handling.ipynb",
      "provenance": [],
      "collapsed_sections": [],
      "authorship_tag": "ABX9TyPODTJLklQoekea0raf+aZu",
      "include_colab_link": true
    },
    "kernelspec": {
      "name": "python3",
      "display_name": "Python 3"
    },
    "language_info": {
      "name": "python"
    }
  },
  "cells": [
    {
      "cell_type": "markdown",
      "metadata": {
        "id": "view-in-github",
        "colab_type": "text"
      },
      "source": [
        "<a href=\"https://colab.research.google.com/github/muhammadrisma/Data-Science-Python/blob/main/Python_Data_Handling.ipynb\" target=\"_parent\"><img src=\"https://colab.research.google.com/assets/colab-badge.svg\" alt=\"Open In Colab\"/></a>"
      ]
    },
    {
      "cell_type": "markdown",
      "source": [
        "# ***The io Module***\n",
        "* Using The io module to implement file-like object in memory .. Store data in memory and handling it."
      ],
      "metadata": {
        "id": "bdlaKgYzbXso"
      }
    },
    {
      "cell_type": "code",
      "execution_count": null,
      "metadata": {
        "id": "WJp0tcYibT1J"
      },
      "outputs": [],
      "source": [
        "import io"
      ]
    },
    {
      "cell_type": "code",
      "source": [
        "new_text = \"Learn Python and Data Analysis\""
      ],
      "metadata": {
        "id": "lOkqqKijcAzq"
      },
      "execution_count": null,
      "outputs": []
    },
    {
      "cell_type": "code",
      "source": [
        "file = io.StringIO(new_text)"
      ],
      "metadata": {
        "id": "w5udlV-jdAUP"
      },
      "execution_count": null,
      "outputs": []
    },
    {
      "cell_type": "code",
      "source": [
        "file.read()"
      ],
      "metadata": {
        "colab": {
          "base_uri": "https://localhost:8080/",
          "height": 35
        },
        "id": "95eIyoEPdG1A",
        "outputId": "ede93bbb-6edf-4e1e-b737-9d8b0229a8d6"
      },
      "execution_count": null,
      "outputs": [
        {
          "output_type": "execute_result",
          "data": {
            "application/vnd.google.colaboratory.intrinsic+json": {
              "type": "string"
            },
            "text/plain": [
              "'Learn Python and Data Analysis'"
            ]
          },
          "metadata": {},
          "execution_count": 16
        }
      ]
    },
    {
      "cell_type": "code",
      "source": [
        "file.write(\" Mastering the Data handling concepts\")"
      ],
      "metadata": {
        "colab": {
          "base_uri": "https://localhost:8080/"
        },
        "id": "Z6hUSEAtdRGP",
        "outputId": "4b7fc610-1b9e-4ae9-d209-542fdc73d7db"
      },
      "execution_count": null,
      "outputs": [
        {
          "output_type": "execute_result",
          "data": {
            "text/plain": [
              "37"
            ]
          },
          "metadata": {},
          "execution_count": 17
        }
      ]
    },
    {
      "cell_type": "code",
      "source": [
        "file.seek(0)"
      ],
      "metadata": {
        "colab": {
          "base_uri": "https://localhost:8080/"
        },
        "id": "bLhSE2I5dcDF",
        "outputId": "b3e4dcc7-60e0-4730-e17c-f12ef71b005c"
      },
      "execution_count": null,
      "outputs": [
        {
          "output_type": "execute_result",
          "data": {
            "text/plain": [
              "0"
            ]
          },
          "metadata": {},
          "execution_count": 18
        }
      ]
    },
    {
      "cell_type": "code",
      "source": [
        "file.read()"
      ],
      "metadata": {
        "colab": {
          "base_uri": "https://localhost:8080/",
          "height": 35
        },
        "id": "uSraLlZIdeKo",
        "outputId": "2403f01f-6554-47af-a8b4-d3cfd211c5b7"
      },
      "execution_count": null,
      "outputs": [
        {
          "output_type": "execute_result",
          "data": {
            "application/vnd.google.colaboratory.intrinsic+json": {
              "type": "string"
            },
            "text/plain": [
              "'Learn Python and Data Analysis Mastering the Data handling concepts'"
            ]
          },
          "metadata": {},
          "execution_count": 19
        }
      ]
    },
    {
      "cell_type": "code",
      "source": [
        "import io"
      ],
      "metadata": {
        "id": "cFcM9Ynsml5n"
      },
      "execution_count": 4,
      "outputs": []
    },
    {
      "cell_type": "code",
      "source": [
        "fText = \"How do you play\""
      ],
      "metadata": {
        "id": "DwcSUSmadyRR"
      },
      "execution_count": 5,
      "outputs": []
    },
    {
      "cell_type": "code",
      "source": [
        "text = io.StringIO(fText)"
      ],
      "metadata": {
        "id": "ApqJfJNAmVKq"
      },
      "execution_count": 6,
      "outputs": []
    },
    {
      "cell_type": "code",
      "source": [
        "text.read()"
      ],
      "metadata": {
        "colab": {
          "base_uri": "https://localhost:8080/",
          "height": 35
        },
        "id": "Ym2AN-xTmfbf",
        "outputId": "76694764-b8a6-49cd-f73d-747f5900f3f6"
      },
      "execution_count": 8,
      "outputs": [
        {
          "output_type": "execute_result",
          "data": {
            "application/vnd.google.colaboratory.intrinsic+json": {
              "type": "string"
            },
            "text/plain": [
              "'How do you play'"
            ]
          },
          "metadata": {},
          "execution_count": 8
        }
      ]
    },
    {
      "cell_type": "code",
      "source": [
        "text.write(\" Every saturday\")"
      ],
      "metadata": {
        "colab": {
          "base_uri": "https://localhost:8080/"
        },
        "id": "3q2DYwhemrd7",
        "outputId": "9eaf3d09-5488-4106-fdd8-0d9167889875"
      },
      "execution_count": 12,
      "outputs": [
        {
          "output_type": "execute_result",
          "data": {
            "text/plain": [
              "15"
            ]
          },
          "metadata": {},
          "execution_count": 12
        }
      ]
    },
    {
      "cell_type": "code",
      "source": [
        "text.seek(0)"
      ],
      "metadata": {
        "colab": {
          "base_uri": "https://localhost:8080/"
        },
        "id": "h9VEukgkmy9b",
        "outputId": "b91b92af-455d-4059-f62f-362252bdf8f4"
      },
      "execution_count": 13,
      "outputs": [
        {
          "output_type": "execute_result",
          "data": {
            "text/plain": [
              "0"
            ]
          },
          "metadata": {},
          "execution_count": 13
        }
      ]
    },
    {
      "cell_type": "code",
      "source": [
        "text.read()"
      ],
      "metadata": {
        "colab": {
          "base_uri": "https://localhost:8080/",
          "height": 35
        },
        "id": "eNHpC7bjm34j",
        "outputId": "9e9ff863-3738-47e1-95a9-7ace2149c221"
      },
      "execution_count": 14,
      "outputs": [
        {
          "output_type": "execute_result",
          "data": {
            "application/vnd.google.colaboratory.intrinsic+json": {
              "type": "string"
            },
            "text/plain": [
              "'How do you playEvery saturday Every saturday'"
            ]
          },
          "metadata": {},
          "execution_count": 14
        }
      ]
    },
    {
      "cell_type": "markdown",
      "source": [
        "## ***The os Module***\n",
        "* Using the os module to interact with operating systems\n",
        "* Reading, writing and deleting files\n",
        "* Working with directories and locations"
      ],
      "metadata": {
        "id": "pxqezhPJm9ln"
      }
    },
    {
      "cell_type": "code",
      "source": [
        "import os"
      ],
      "metadata": {
        "id": "pwpSM58Um5v3"
      },
      "execution_count": 15,
      "outputs": []
    },
    {
      "cell_type": "code",
      "source": [
        "os.getcwd()"
      ],
      "metadata": {
        "colab": {
          "base_uri": "https://localhost:8080/",
          "height": 35
        },
        "id": "1npGQSzEnSOX",
        "outputId": "12676067-c5b2-4948-ec5b-8761f85107c2"
      },
      "execution_count": 16,
      "outputs": [
        {
          "output_type": "execute_result",
          "data": {
            "application/vnd.google.colaboratory.intrinsic+json": {
              "type": "string"
            },
            "text/plain": [
              "'/content'"
            ]
          },
          "metadata": {},
          "execution_count": 16
        }
      ]
    },
    {
      "cell_type": "code",
      "source": [
        "os.listdir()"
      ],
      "metadata": {
        "colab": {
          "base_uri": "https://localhost:8080/"
        },
        "id": "ZOmBJb2qnhzS",
        "outputId": "08636a87-32ce-4fae-ecd1-e8eacb9cdb71"
      },
      "execution_count": 17,
      "outputs": [
        {
          "output_type": "execute_result",
          "data": {
            "text/plain": [
              "['.config', 'sample_data']"
            ]
          },
          "metadata": {},
          "execution_count": 17
        }
      ]
    },
    {
      "cell_type": "markdown",
      "source": [
        "# ***The shutil module***\n",
        "* Using the **shutil** module to move data file to different directories and folders"
      ],
      "metadata": {
        "id": "bLWF48qpnxv8"
      }
    },
    {
      "cell_type": "code",
      "source": [
        "# shutil.move('file_you_want_tomove.txt', '.\\folder tujuan')"
      ],
      "metadata": {
        "id": "e8DOi07OnsJl"
      },
      "execution_count": 19,
      "outputs": []
    },
    {
      "cell_type": "code",
      "source": [
        "# shutil.move('.Demo\\main.txt', os.getcwd()) move files to our current directory"
      ],
      "metadata": {
        "id": "FGY_a_OjoikS"
      },
      "execution_count": 20,
      "outputs": []
    },
    {
      "cell_type": "markdown",
      "source": [
        "# ***The send2trash Module***\n",
        "* Using the sendtrash module to send deleted files to the trash bin instead of removing file permanently\n",
        "* Installation: !pip install send2trash"
      ],
      "metadata": {
        "id": "vKDE3TEypLqP"
      }
    },
    {
      "cell_type": "code",
      "source": [
        "!pip install send2trash"
      ],
      "metadata": {
        "colab": {
          "base_uri": "https://localhost:8080/"
        },
        "id": "YO3t6k20pGOb",
        "outputId": "442d1174-5648-4a3a-c017-10c1b766ef2d"
      },
      "execution_count": 21,
      "outputs": [
        {
          "output_type": "stream",
          "name": "stdout",
          "text": [
            "Requirement already satisfied: send2trash in /usr/local/lib/python3.7/dist-packages (1.8.0)\n"
          ]
        }
      ]
    },
    {
      "cell_type": "code",
      "source": [
        "import send2trash"
      ],
      "metadata": {
        "id": "vkB4dM-Dpyx7"
      },
      "execution_count": 22,
      "outputs": []
    },
    {
      "cell_type": "code",
      "source": [
        "# send2trash.send2trash(\"file_you_want_todelete.txt\")"
      ],
      "metadata": {
        "id": "4ihnKeMIp4xr"
      },
      "execution_count": 26,
      "outputs": []
    },
    {
      "cell_type": "markdown",
      "source": [
        "# ***The zipfile module***\n",
        "* Using the zipfile module to compress and\n",
        "extract files and folders\n",
        "* import zipfile"
      ],
      "metadata": {
        "id": "-FVAk-jFqnae"
      }
    },
    {
      "cell_type": "code",
      "source": [
        "new_file = open(\"demo.txt\", \"w+\")"
      ],
      "metadata": {
        "id": "yefRTDg6p7eC"
      },
      "execution_count": 33,
      "outputs": []
    },
    {
      "cell_type": "code",
      "source": [
        "new_file.write(\"This is demo 1\")"
      ],
      "metadata": {
        "colab": {
          "base_uri": "https://localhost:8080/"
        },
        "id": "BOl14vZZq8ZH",
        "outputId": "23fb08de-ff90-4ff6-a24e-b92c91e55bb3"
      },
      "execution_count": 34,
      "outputs": [
        {
          "output_type": "execute_result",
          "data": {
            "text/plain": [
              "14"
            ]
          },
          "metadata": {},
          "execution_count": 34
        }
      ]
    },
    {
      "cell_type": "code",
      "source": [
        "new_file.close()"
      ],
      "metadata": {
        "id": "VM49gR2yq_K4"
      },
      "execution_count": 35,
      "outputs": []
    },
    {
      "cell_type": "code",
      "source": [
        "new_file = open(\"demo2.txt\", \"w+\")"
      ],
      "metadata": {
        "id": "zgjTarR_rOlX"
      },
      "execution_count": 36,
      "outputs": []
    },
    {
      "cell_type": "code",
      "source": [
        "new_file.write(\"This is demo 2\")"
      ],
      "metadata": {
        "colab": {
          "base_uri": "https://localhost:8080/"
        },
        "id": "BSqp0Lyrrm31",
        "outputId": "c3c653f5-db91-407e-b0f6-742f99c7923c"
      },
      "execution_count": 37,
      "outputs": [
        {
          "output_type": "execute_result",
          "data": {
            "text/plain": [
              "14"
            ]
          },
          "metadata": {},
          "execution_count": 37
        }
      ]
    },
    {
      "cell_type": "code",
      "source": [
        "new_file.close()"
      ],
      "metadata": {
        "id": "HP798vgIrqyH"
      },
      "execution_count": 38,
      "outputs": []
    },
    {
      "cell_type": "code",
      "source": [
        "import zipfile"
      ],
      "metadata": {
        "id": "zi2Qk37Jrs4G"
      },
      "execution_count": 39,
      "outputs": []
    },
    {
      "cell_type": "code",
      "source": [
        "new_comp = zipfile.ZipFile(\"new_comp.zip\", \"w\")"
      ],
      "metadata": {
        "id": "bwOAfiy0sJ6n"
      },
      "execution_count": 40,
      "outputs": []
    },
    {
      "cell_type": "code",
      "source": [
        "new_comp.write(\"demo.txt\", compress_type= zipfile.ZIP_DEFLATED)\n",
        "new_comp.write(\"demo2.txt\", compress_type= zipfile.ZIP_DEFLATED)"
      ],
      "metadata": {
        "id": "taJFP0yMsU8F"
      },
      "execution_count": 41,
      "outputs": []
    },
    {
      "cell_type": "code",
      "source": [
        "new_comp.close()"
      ],
      "metadata": {
        "id": "ZiG0HkHDsqKi"
      },
      "execution_count": 42,
      "outputs": []
    },
    {
      "cell_type": "code",
      "source": [
        "new_extract = zipfile.ZipFile(\"new_comp.zip\", \"r\")"
      ],
      "metadata": {
        "id": "24uCcFqzswy6"
      },
      "execution_count": 43,
      "outputs": []
    },
    {
      "cell_type": "code",
      "source": [
        "new_extract.extractall(\"This is your extrated folder!!\")"
      ],
      "metadata": {
        "id": "-8dg7mmbtbg3"
      },
      "execution_count": 44,
      "outputs": []
    },
    {
      "cell_type": "code",
      "source": [
        ""
      ],
      "metadata": {
        "id": "DtnPfIiNtihs"
      },
      "execution_count": null,
      "outputs": []
    }
  ]
}