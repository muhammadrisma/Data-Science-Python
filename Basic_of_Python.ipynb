{
  "nbformat": 4,
  "nbformat_minor": 0,
  "metadata": {
    "colab": {
      "name": "Basic of Python.ipynb",
      "provenance": [],
      "collapsed_sections": [],
      "authorship_tag": "ABX9TyNe6Rv1pRNo5yusQMW1yeNU",
      "include_colab_link": true
    },
    "kernelspec": {
      "name": "python3",
      "display_name": "Python 3"
    },
    "language_info": {
      "name": "python"
    }
  },
  "cells": [
    {
      "cell_type": "markdown",
      "metadata": {
        "id": "view-in-github",
        "colab_type": "text"
      },
      "source": [
        "<a href=\"https://colab.research.google.com/github/muhammadrisma/Data-Science-Python/blob/main/Basic_of_Python.ipynb\" target=\"_parent\"><img src=\"https://colab.research.google.com/assets/colab-badge.svg\" alt=\"Open In Colab\"/></a>"
      ]
    },
    {
      "cell_type": "markdown",
      "source": [
        "# **Variable & Types**"
      ],
      "metadata": {
        "id": "y1bagTp5Ibfp"
      }
    },
    {
      "cell_type": "markdown",
      "source": [
        "*   Integer : 1, 2, 3 dll ( angka bulat )\n",
        "*   Float : 1.3 , -3.5 dll ( angka decimal )\n",
        "*   String : \"Hello World\" ( karakter )\n",
        "*   Boolean : True or False \n",
        "\n",
        "\n",
        "\n",
        "\n",
        "\n",
        "\n"
      ],
      "metadata": {
        "id": "qaBxn9tGIns4"
      }
    },
    {
      "cell_type": "code",
      "source": [
        "message = \" This is me \"\n",
        "print(message)"
      ],
      "metadata": {
        "colab": {
          "base_uri": "https://localhost:8080/"
        },
        "id": "rVtl-3FJI9C2",
        "outputId": "1d69a7fc-4dd6-4eaa-f9df-b43d88c53fb2"
      },
      "execution_count": 1,
      "outputs": [
        {
          "output_type": "stream",
          "name": "stdout",
          "text": [
            " This is me \n"
          ]
        }
      ]
    },
    {
      "cell_type": "markdown",
      "source": [
        "Integer & Float "
      ],
      "metadata": {
        "id": "hdycUDo4KbSw"
      }
    },
    {
      "cell_type": "code",
      "source": [
        " x = 10\n",
        " y = 20.1\n",
        " z = 20 + 5j"
      ],
      "metadata": {
        "id": "gLt4z1gZJ3xk"
      },
      "execution_count": 3,
      "outputs": []
    },
    {
      "cell_type": "code",
      "source": [
        "x"
      ],
      "metadata": {
        "colab": {
          "base_uri": "https://localhost:8080/"
        },
        "id": "hJwSo4DRKUOo",
        "outputId": "d1bfcf34-0890-4b96-99cd-66e4e8129ffe"
      },
      "execution_count": 4,
      "outputs": [
        {
          "output_type": "execute_result",
          "data": {
            "text/plain": [
              "10"
            ]
          },
          "metadata": {},
          "execution_count": 4
        }
      ]
    },
    {
      "cell_type": "code",
      "source": [
        "y"
      ],
      "metadata": {
        "colab": {
          "base_uri": "https://localhost:8080/"
        },
        "id": "JZG92hxnKV2E",
        "outputId": "440d81ba-c491-4da0-f04a-9f489aed3d13"
      },
      "execution_count": 5,
      "outputs": [
        {
          "output_type": "execute_result",
          "data": {
            "text/plain": [
              "20.1"
            ]
          },
          "metadata": {},
          "execution_count": 5
        }
      ]
    },
    {
      "cell_type": "code",
      "source": [
        "z"
      ],
      "metadata": {
        "colab": {
          "base_uri": "https://localhost:8080/"
        },
        "id": "YvhJnkvAKXGr",
        "outputId": "604f2232-a3ff-4c8a-8de7-bc707c9a584e"
      },
      "execution_count": 6,
      "outputs": [
        {
          "output_type": "execute_result",
          "data": {
            "text/plain": [
              "(20+5j)"
            ]
          },
          "metadata": {},
          "execution_count": 6
        }
      ]
    },
    {
      "cell_type": "markdown",
      "source": [
        "Boolean"
      ],
      "metadata": {
        "id": "VVQUCARgKmvQ"
      }
    },
    {
      "cell_type": "code",
      "source": [
        "test = True"
      ],
      "metadata": {
        "id": "4JDbqOYbKny8"
      },
      "execution_count": 7,
      "outputs": []
    },
    {
      "cell_type": "code",
      "source": [
        "type(test)"
      ],
      "metadata": {
        "colab": {
          "base_uri": "https://localhost:8080/"
        },
        "id": "UYuhYhMlKrIn",
        "outputId": "3e4539f0-daad-4a61-b46c-546624ed175d"
      },
      "execution_count": 8,
      "outputs": [
        {
          "output_type": "execute_result",
          "data": {
            "text/plain": [
              "bool"
            ]
          },
          "metadata": {},
          "execution_count": 8
        }
      ]
    },
    {
      "cell_type": "code",
      "source": [
        " type(1)"
      ],
      "metadata": {
        "colab": {
          "base_uri": "https://localhost:8080/"
        },
        "id": "Vfg5TlHYKun4",
        "outputId": "1814b31c-05d7-4b64-87c0-87f7dbce452c"
      },
      "execution_count": 9,
      "outputs": [
        {
          "output_type": "execute_result",
          "data": {
            "text/plain": [
              "int"
            ]
          },
          "metadata": {},
          "execution_count": 9
        }
      ]
    },
    {
      "cell_type": "code",
      "source": [
        "type(3j)"
      ],
      "metadata": {
        "colab": {
          "base_uri": "https://localhost:8080/"
        },
        "id": "CTNFvnZDLccz",
        "outputId": "033d16aa-ae07-4abd-982c-630f851a74c0"
      },
      "execution_count": 10,
      "outputs": [
        {
          "output_type": "execute_result",
          "data": {
            "text/plain": [
              "complex"
            ]
          },
          "metadata": {},
          "execution_count": 10
        }
      ]
    },
    {
      "cell_type": "code",
      "source": [
        "type(\"Hello\")"
      ],
      "metadata": {
        "colab": {
          "base_uri": "https://localhost:8080/"
        },
        "id": "CowqnTL7LfdV",
        "outputId": "6c8397bf-b37a-4582-b489-1b8784ac11a7"
      },
      "execution_count": 11,
      "outputs": [
        {
          "output_type": "execute_result",
          "data": {
            "text/plain": [
              "str"
            ]
          },
          "metadata": {},
          "execution_count": 11
        }
      ]
    },
    {
      "cell_type": "markdown",
      "source": [
        "# **Comments**"
      ],
      "metadata": {
        "id": "VPpToNLdLmPK"
      }
    },
    {
      "cell_type": "code",
      "source": [
        "# Block single line comment\n",
        "text = \"Hi Colab\"\n",
        "print(text)"
      ],
      "metadata": {
        "colab": {
          "base_uri": "https://localhost:8080/"
        },
        "id": "mhqwPCNpLn0Y",
        "outputId": "76a8e15e-ab5b-48a1-d43b-e175c43ae468"
      },
      "execution_count": 13,
      "outputs": [
        {
          "output_type": "stream",
          "name": "stdout",
          "text": [
            "Hi Colab\n"
          ]
        }
      ]
    },
    {
      "cell_type": "code",
      "source": [
        "print(\"#This is not a comment\") # This is a comment"
      ],
      "metadata": {
        "colab": {
          "base_uri": "https://localhost:8080/"
        },
        "id": "YGqH-riIMTB8",
        "outputId": "334542d7-6654-40c3-eda0-03217581e032"
      },
      "execution_count": 17,
      "outputs": [
        {
          "output_type": "stream",
          "name": "stdout",
          "text": [
            "#This is not a comment\n"
          ]
        }
      ]
    },
    {
      "cell_type": "code",
      "source": [
        "# first line of comment\n",
        "# second line of comment\n",
        "# third line of comment"
      ],
      "metadata": {
        "id": "dCHXa9T8Mk7T"
      },
      "execution_count": 18,
      "outputs": []
    },
    {
      "cell_type": "code",
      "source": [
        ""
      ],
      "metadata": {
        "id": "OzDpNEtBNGiW"
      },
      "execution_count": null,
      "outputs": []
    }
  ]
}