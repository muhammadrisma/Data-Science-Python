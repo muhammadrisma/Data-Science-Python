{
  "nbformat": 4,
  "nbformat_minor": 0,
  "metadata": {
    "colab": {
      "name": "OOP In Python.ipynb",
      "provenance": [],
      "authorship_tag": "ABX9TyOx4URawQNsFiYAGfTGg0jx",
      "include_colab_link": true
    },
    "kernelspec": {
      "name": "python3",
      "display_name": "Python 3"
    },
    "language_info": {
      "name": "python"
    }
  },
  "cells": [
    {
      "cell_type": "markdown",
      "metadata": {
        "id": "view-in-github",
        "colab_type": "text"
      },
      "source": [
        "<a href=\"https://colab.research.google.com/github/muhammadrisma/Data-Science-Python/blob/main/OOP_In_Python.ipynb\" target=\"_parent\"><img src=\"https://colab.research.google.com/assets/colab-badge.svg\" alt=\"Open In Colab\"/></a>"
      ]
    },
    {
      "cell_type": "code",
      "execution_count": null,
      "metadata": {
        "id": "643Hx_FV9Zjx"
      },
      "outputs": [],
      "source": [
        ""
      ]
    },
    {
      "cell_type": "markdown",
      "source": [
        "## ***Class in Python***\n",
        "\n",
        "\n",
        "*   Python is an Object-Oriented Programming language\n",
        "*   Class is user-defined data structure for creating instances\n",
        "*   Syntax: class ClassName:\n",
        "*   Create instances or objects based on a class\n",
        "*   Instance methods: functions belongs to a class\n",
        "*   Attributes and Instance attributes\n",
        "*   Linit_(self) to know the initial state and tells python what the values are\n",
        "\n",
        "\n"
      ],
      "metadata": {
        "id": "cCV3-13d9f5_"
      }
    },
    {
      "cell_type": "code",
      "source": [
        "class car:\n",
        "  def __init__(self, name, color):\n",
        "    self.name = name\n",
        "    self.color = color"
      ],
      "metadata": {
        "id": "re3JaPv--BGN"
      },
      "execution_count": 1,
      "outputs": []
    },
    {
      "cell_type": "code",
      "source": [
        "model1 = car(\"BMW\", \"Black\")"
      ],
      "metadata": {
        "id": "UwHme7a8BCu9"
      },
      "execution_count": 2,
      "outputs": []
    },
    {
      "cell_type": "code",
      "source": [
        "print(model1.name)\n",
        "print(model1.color)"
      ],
      "metadata": {
        "colab": {
          "base_uri": "https://localhost:8080/"
        },
        "id": "NNV8ts7IBSRl",
        "outputId": "70c8301a-3846-43fc-c44a-ed9f714e2c97"
      },
      "execution_count": 3,
      "outputs": [
        {
          "output_type": "stream",
          "name": "stdout",
          "text": [
            "BMW\n",
            "Black\n"
          ]
        }
      ]
    },
    {
      "cell_type": "code",
      "source": [
        "class car:\n",
        "  def __init__(self, name, color):\n",
        "    self.name = name\n",
        "    self.color = color\n",
        "  def message(self):\n",
        "    print(\"The car name is \" + self.name)"
      ],
      "metadata": {
        "id": "TVsrTPW-BXoD"
      },
      "execution_count": 4,
      "outputs": []
    },
    {
      "cell_type": "code",
      "source": [
        "model1 = car(\"Audi\", \"White\")"
      ],
      "metadata": {
        "id": "gaBjN0qrC81u"
      },
      "execution_count": 6,
      "outputs": []
    },
    {
      "cell_type": "code",
      "source": [
        "model1.message()"
      ],
      "metadata": {
        "colab": {
          "base_uri": "https://localhost:8080/"
        },
        "id": "OY9HVyeUDA53",
        "outputId": "a3b486bc-7d3f-44d1-acba-70421457a144"
      },
      "execution_count": 7,
      "outputs": [
        {
          "output_type": "stream",
          "name": "stdout",
          "text": [
            "The car name is Audi\n"
          ]
        }
      ]
    },
    {
      "cell_type": "code",
      "source": [
        "model1.color = \"Red\" #change value"
      ],
      "metadata": {
        "id": "kd-RzjBPDMeF"
      },
      "execution_count": 11,
      "outputs": []
    },
    {
      "cell_type": "code",
      "source": [
        "print(model1.color)"
      ],
      "metadata": {
        "colab": {
          "base_uri": "https://localhost:8080/"
        },
        "id": "g-14P7wYDSq_",
        "outputId": "45d3be87-9d00-485c-c11b-022a8210131f"
      },
      "execution_count": 13,
      "outputs": [
        {
          "output_type": "stream",
          "name": "stdout",
          "text": [
            "Red\n"
          ]
        }
      ]
    },
    {
      "cell_type": "code",
      "source": [
        "# delete an atribute or whole object\n",
        "# del model1.color\n",
        "# del model1"
      ],
      "metadata": {
        "id": "A_7QUpf2DgXy"
      },
      "execution_count": 14,
      "outputs": []
    },
    {
      "cell_type": "code",
      "source": [
        ""
      ],
      "metadata": {
        "id": "JTw5Xtb0Dv94"
      },
      "execution_count": null,
      "outputs": []
    }
  ]
}