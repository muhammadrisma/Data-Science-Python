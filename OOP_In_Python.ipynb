{
  "nbformat": 4,
  "nbformat_minor": 0,
  "metadata": {
    "colab": {
      "name": "OOP In Python.ipynb",
      "provenance": [],
      "collapsed_sections": [],
      "authorship_tag": "ABX9TyOm7AfFqy0BiQXNpo+Bcerz",
      "include_colab_link": true
    },
    "kernelspec": {
      "name": "python3",
      "display_name": "Python 3"
    },
    "language_info": {
      "name": "python"
    }
  },
  "cells": [
    {
      "cell_type": "markdown",
      "metadata": {
        "id": "view-in-github",
        "colab_type": "text"
      },
      "source": [
        "<a href=\"https://colab.research.google.com/github/muhammadrisma/Data-Science-Python/blob/main/OOP_In_Python.ipynb\" target=\"_parent\"><img src=\"https://colab.research.google.com/assets/colab-badge.svg\" alt=\"Open In Colab\"/></a>"
      ]
    },
    {
      "cell_type": "code",
      "execution_count": null,
      "metadata": {
        "id": "643Hx_FV9Zjx"
      },
      "outputs": [],
      "source": [
        ""
      ]
    },
    {
      "cell_type": "markdown",
      "source": [
        "## ***Class in Python***\n",
        "\n",
        "\n",
        "*   Python is an Object-Oriented Programming language\n",
        "*   Class is user-defined data structure for creating instances\n",
        "*   Syntax: class ClassName:\n",
        "*   Create instances or objects based on a class\n",
        "*   Instance methods: functions belongs to a class\n",
        "*   Attributes and Instance attributes\n",
        "*   Linit_(self) to know the initial state and tells python what the values are\n",
        "\n",
        "\n"
      ],
      "metadata": {
        "id": "cCV3-13d9f5_"
      }
    },
    {
      "cell_type": "code",
      "source": [
        "class car:\n",
        "  def __init__(self, name, color):\n",
        "    self.name = name\n",
        "    self.color = color"
      ],
      "metadata": {
        "id": "re3JaPv--BGN"
      },
      "execution_count": null,
      "outputs": []
    },
    {
      "cell_type": "code",
      "source": [
        "model1 = car(\"BMW\", \"Black\")"
      ],
      "metadata": {
        "id": "UwHme7a8BCu9"
      },
      "execution_count": null,
      "outputs": []
    },
    {
      "cell_type": "code",
      "source": [
        "print(model1.name)\n",
        "print(model1.color)"
      ],
      "metadata": {
        "colab": {
          "base_uri": "https://localhost:8080/"
        },
        "id": "NNV8ts7IBSRl",
        "outputId": "70c8301a-3846-43fc-c44a-ed9f714e2c97"
      },
      "execution_count": null,
      "outputs": [
        {
          "output_type": "stream",
          "name": "stdout",
          "text": [
            "BMW\n",
            "Black\n"
          ]
        }
      ]
    },
    {
      "cell_type": "code",
      "source": [
        "class car:\n",
        "  def __init__(self, name, color):\n",
        "    self.name = name\n",
        "    self.color = color\n",
        "  def message(self):\n",
        "    print(\"The car name is \" + self.name)"
      ],
      "metadata": {
        "id": "TVsrTPW-BXoD"
      },
      "execution_count": null,
      "outputs": []
    },
    {
      "cell_type": "code",
      "source": [
        "model1 = car(\"Audi\", \"White\")"
      ],
      "metadata": {
        "id": "gaBjN0qrC81u"
      },
      "execution_count": null,
      "outputs": []
    },
    {
      "cell_type": "code",
      "source": [
        "model1.message()"
      ],
      "metadata": {
        "colab": {
          "base_uri": "https://localhost:8080/"
        },
        "id": "OY9HVyeUDA53",
        "outputId": "a3b486bc-7d3f-44d1-acba-70421457a144"
      },
      "execution_count": null,
      "outputs": [
        {
          "output_type": "stream",
          "name": "stdout",
          "text": [
            "The car name is Audi\n"
          ]
        }
      ]
    },
    {
      "cell_type": "code",
      "source": [
        "model1.color = \"Red\" #change value"
      ],
      "metadata": {
        "id": "kd-RzjBPDMeF"
      },
      "execution_count": null,
      "outputs": []
    },
    {
      "cell_type": "code",
      "source": [
        "print(model1.color)"
      ],
      "metadata": {
        "colab": {
          "base_uri": "https://localhost:8080/"
        },
        "id": "g-14P7wYDSq_",
        "outputId": "45d3be87-9d00-485c-c11b-022a8210131f"
      },
      "execution_count": null,
      "outputs": [
        {
          "output_type": "stream",
          "name": "stdout",
          "text": [
            "Red\n"
          ]
        }
      ]
    },
    {
      "cell_type": "code",
      "source": [
        "# delete an atribute or whole object\n",
        "# del model1.color\n",
        "# del model1"
      ],
      "metadata": {
        "id": "A_7QUpf2DgXy"
      },
      "execution_count": null,
      "outputs": []
    },
    {
      "cell_type": "code",
      "source": [
        "class bike:\n",
        "  def __init__(self, name, color):\n",
        "    self.name = name\n",
        "    self.color = color\n",
        "  def message(self):\n",
        "    print(\"This is a \"+self.name)"
      ],
      "metadata": {
        "id": "JTw5Xtb0Dv94"
      },
      "execution_count": 15,
      "outputs": []
    },
    {
      "cell_type": "code",
      "source": [
        "type1 = bike(\"Honda\", \"Red\")"
      ],
      "metadata": {
        "id": "6dGpsISAQM1q"
      },
      "execution_count": 16,
      "outputs": []
    },
    {
      "cell_type": "code",
      "source": [
        "print(type1.message())"
      ],
      "metadata": {
        "colab": {
          "base_uri": "https://localhost:8080/"
        },
        "id": "96Vl3vOBQXGG",
        "outputId": "e4e562e2-c7d8-4929-8123-3cfddb1be561"
      },
      "execution_count": 18,
      "outputs": [
        {
          "output_type": "stream",
          "name": "stdout",
          "text": [
            "This is a Honda\n",
            "None\n"
          ]
        }
      ]
    },
    {
      "cell_type": "code",
      "source": [
        ""
      ],
      "metadata": {
        "id": "5p7FTtErQ1qm"
      },
      "execution_count": null,
      "outputs": []
    },
    {
      "cell_type": "markdown",
      "source": [
        "# ***Inheritance***\n",
        "\n",
        "\n",
        "*   Creating a class based on another class to inherit all methods and properties\n",
        "\n"
      ],
      "metadata": {
        "id": "B68kJe-TRssx"
      }
    },
    {
      "cell_type": "code",
      "source": [
        "class car:\n",
        "  def __init__(self, name, color):\n",
        "    self.name = name\n",
        "    self.color = color\n",
        "  def message(self):\n",
        "    print(self.name, self.color)"
      ],
      "metadata": {
        "id": "ErJHsD_ZR906"
      },
      "execution_count": 19,
      "outputs": []
    },
    {
      "cell_type": "code",
      "source": [
        "model1 = car(\"X1\", \"White\")"
      ],
      "metadata": {
        "id": "MgT3S4D7SZ86"
      },
      "execution_count": 20,
      "outputs": []
    },
    {
      "cell_type": "code",
      "source": [
        "model1.message()"
      ],
      "metadata": {
        "colab": {
          "base_uri": "https://localhost:8080/"
        },
        "id": "utcJeZGpSxEC",
        "outputId": "b569fb14-8f11-4bdc-e6d6-b4e19b785a8f"
      },
      "execution_count": 22,
      "outputs": [
        {
          "output_type": "stream",
          "name": "stdout",
          "text": [
            "X1 White\n"
          ]
        }
      ]
    },
    {
      "cell_type": "code",
      "source": [
        "class car1(car): #inheritance\n",
        "  pass"
      ],
      "metadata": {
        "id": "ls2HAxj2SzO_"
      },
      "execution_count": 26,
      "outputs": []
    },
    {
      "cell_type": "code",
      "source": [
        "model1 = car1(\"X2\", \"Blue\")"
      ],
      "metadata": {
        "id": "mxpOJsLzTdCL"
      },
      "execution_count": 27,
      "outputs": []
    },
    {
      "cell_type": "code",
      "source": [
        "model1.message()"
      ],
      "metadata": {
        "colab": {
          "base_uri": "https://localhost:8080/"
        },
        "id": "T3ufpIjUTjsx",
        "outputId": "5e8e5f2b-eead-4ddf-db44-e9869601f3ea"
      },
      "execution_count": 28,
      "outputs": [
        {
          "output_type": "stream",
          "name": "stdout",
          "text": [
            "X2 Blue\n"
          ]
        }
      ]
    },
    {
      "cell_type": "code",
      "source": [
        "class car1(car):\n",
        "   def __init__(self, name, color):\n",
        "     super().__init__(name, color)"
      ],
      "metadata": {
        "id": "P2XQdYJnTl8J"
      },
      "execution_count": 39,
      "outputs": []
    },
    {
      "cell_type": "code",
      "source": [
        "model2 = car1(\"A1\", \"Red\")"
      ],
      "metadata": {
        "id": "8RKtgWi3Ua-a"
      },
      "execution_count": 40,
      "outputs": []
    },
    {
      "cell_type": "code",
      "source": [
        "model2.message()"
      ],
      "metadata": {
        "colab": {
          "base_uri": "https://localhost:8080/"
        },
        "id": "SL88F2KHUjO_",
        "outputId": "c3fef699-6d7f-4bd5-b614-f996bb8694d3"
      },
      "execution_count": 41,
      "outputs": [
        {
          "output_type": "stream",
          "name": "stdout",
          "text": [
            "A1 Red\n"
          ]
        }
      ]
    },
    {
      "cell_type": "code",
      "source": [
        "#or we can use another method using super() / self"
      ],
      "metadata": {
        "id": "EwARSySBUpA7"
      },
      "execution_count": 42,
      "outputs": []
    },
    {
      "cell_type": "code",
      "source": [
        ""
      ],
      "metadata": {
        "id": "buMFJJyTVoSQ"
      },
      "execution_count": null,
      "outputs": []
    }
  ]
}