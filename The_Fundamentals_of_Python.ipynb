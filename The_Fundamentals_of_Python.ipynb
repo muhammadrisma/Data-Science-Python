{
  "nbformat": 4,
  "nbformat_minor": 0,
  "metadata": {
    "colab": {
      "name": "The Fundamentals of Python.ipynb",
      "provenance": [],
      "collapsed_sections": [],
      "authorship_tag": "ABX9TyNIzo5zWV4DdpCcfeg7AN06",
      "include_colab_link": true
    },
    "kernelspec": {
      "name": "python3",
      "display_name": "Python 3"
    },
    "language_info": {
      "name": "python"
    }
  },
  "cells": [
    {
      "cell_type": "markdown",
      "metadata": {
        "id": "view-in-github",
        "colab_type": "text"
      },
      "source": [
        "<a href=\"https://colab.research.google.com/github/muhammadrisma/Data-Science-Python/blob/main/The_Fundamentals_of_Python.ipynb\" target=\"_parent\"><img src=\"https://colab.research.google.com/assets/colab-badge.svg\" alt=\"Open In Colab\"/></a>"
      ]
    },
    {
      "cell_type": "markdown",
      "source": [
        "## ***Comparing Values***"
      ],
      "metadata": {
        "id": "JaYDtEExVJ4N"
      }
    },
    {
      "cell_type": "markdown",
      "source": [
        "\n",
        "\n",
        "*   Using >,<,<=,>=,!=,== operator to compare between values \n",
        "* Output will be boolean value( true or false)   \n",
        "\n"
      ],
      "metadata": {
        "id": "tJjDONAzVPvs"
      }
    },
    {
      "cell_type": "code",
      "source": [
        "X = 10\n",
        "Y = 5"
      ],
      "metadata": {
        "id": "3xLtGyNuVf3X"
      },
      "execution_count": null,
      "outputs": []
    },
    {
      "cell_type": "code",
      "source": [
        "X > Y"
      ],
      "metadata": {
        "colab": {
          "base_uri": "https://localhost:8080/"
        },
        "id": "H3RC46elVySP",
        "outputId": "5ce44887-19ac-4e1e-e45b-7f8d0eb1b4b3"
      },
      "execution_count": null,
      "outputs": [
        {
          "output_type": "execute_result",
          "data": {
            "text/plain": [
              "True"
            ]
          },
          "metadata": {},
          "execution_count": 2
        }
      ]
    },
    {
      "cell_type": "code",
      "source": [
        "X < Y"
      ],
      "metadata": {
        "colab": {
          "base_uri": "https://localhost:8080/"
        },
        "id": "8SqQF4MTVznq",
        "outputId": "22a6e8c3-dd9e-4ccf-db8d-3ad8fed3c1b3"
      },
      "execution_count": null,
      "outputs": [
        {
          "output_type": "execute_result",
          "data": {
            "text/plain": [
              "False"
            ]
          },
          "metadata": {},
          "execution_count": 3
        }
      ]
    },
    {
      "cell_type": "code",
      "source": [
        "X >= Y"
      ],
      "metadata": {
        "colab": {
          "base_uri": "https://localhost:8080/"
        },
        "id": "FZBISHPmV2J-",
        "outputId": "f883bb52-1975-4107-a632-217e6c0b7a9a"
      },
      "execution_count": null,
      "outputs": [
        {
          "output_type": "execute_result",
          "data": {
            "text/plain": [
              "True"
            ]
          },
          "metadata": {},
          "execution_count": 4
        }
      ]
    },
    {
      "cell_type": "code",
      "source": [
        "X <= Y"
      ],
      "metadata": {
        "colab": {
          "base_uri": "https://localhost:8080/"
        },
        "id": "I5yMT8jZV3lK",
        "outputId": "d686be19-c61b-4f9f-b963-f8168ce8b7d2"
      },
      "execution_count": null,
      "outputs": [
        {
          "output_type": "execute_result",
          "data": {
            "text/plain": [
              "False"
            ]
          },
          "metadata": {},
          "execution_count": 5
        }
      ]
    },
    {
      "cell_type": "code",
      "source": [
        "X != Y"
      ],
      "metadata": {
        "colab": {
          "base_uri": "https://localhost:8080/"
        },
        "id": "hrfVIOq4V5uE",
        "outputId": "72452ea4-6252-47a4-e6fb-c46e92936878"
      },
      "execution_count": null,
      "outputs": [
        {
          "output_type": "execute_result",
          "data": {
            "text/plain": [
              "True"
            ]
          },
          "metadata": {},
          "execution_count": 6
        }
      ]
    },
    {
      "cell_type": "code",
      "source": [
        "X == Y"
      ],
      "metadata": {
        "colab": {
          "base_uri": "https://localhost:8080/"
        },
        "id": "0sVmKVSYV7bQ",
        "outputId": "daeb2a99-7443-47d0-9fcc-b69a6dad5220"
      },
      "execution_count": null,
      "outputs": [
        {
          "output_type": "execute_result",
          "data": {
            "text/plain": [
              "False"
            ]
          },
          "metadata": {},
          "execution_count": 7
        }
      ]
    },
    {
      "cell_type": "code",
      "source": [
        "type(X == Y)"
      ],
      "metadata": {
        "colab": {
          "base_uri": "https://localhost:8080/"
        },
        "id": "quJEQQ9VV8qb",
        "outputId": "83891301-5d6a-4aa8-dfa3-77b7cab61a53"
      },
      "execution_count": null,
      "outputs": [
        {
          "output_type": "execute_result",
          "data": {
            "text/plain": [
              "bool"
            ]
          },
          "metadata": {},
          "execution_count": 8
        }
      ]
    },
    {
      "cell_type": "code",
      "source": [
        "\"c\" == \"c\""
      ],
      "metadata": {
        "colab": {
          "base_uri": "https://localhost:8080/"
        },
        "id": "EGKI9stKWERY",
        "outputId": "c2f008c0-4289-4a6b-cf40-1d3c9549eb00"
      },
      "execution_count": null,
      "outputs": [
        {
          "output_type": "execute_result",
          "data": {
            "text/plain": [
              "True"
            ]
          },
          "metadata": {},
          "execution_count": 9
        }
      ]
    },
    {
      "cell_type": "code",
      "source": [
        "\"c\" < \"d\""
      ],
      "metadata": {
        "colab": {
          "base_uri": "https://localhost:8080/"
        },
        "id": "Gi6Mg2Z4WJeA",
        "outputId": "35d9175e-5de1-46a7-a2ee-1fea46965d09"
      },
      "execution_count": null,
      "outputs": [
        {
          "output_type": "execute_result",
          "data": {
            "text/plain": [
              "True"
            ]
          },
          "metadata": {},
          "execution_count": 11
        }
      ]
    },
    {
      "cell_type": "markdown",
      "source": [
        "### ***Output From Logic***"
      ],
      "metadata": {
        "id": "oKn8tl9JWYPD"
      }
    },
    {
      "cell_type": "markdown",
      "source": [
        "\n",
        "\n",
        "*   **and** operator: True both sides are True\n",
        "*  **or** operator: True if any side is truw or borh side are True\n",
        "*   not operator: To reverse the value\n",
        "\n",
        "\n",
        "\n"
      ],
      "metadata": {
        "id": "uEaAUAmnWelv"
      }
    },
    {
      "cell_type": "code",
      "source": [
        "5 > 3 and 10 <= 12"
      ],
      "metadata": {
        "colab": {
          "base_uri": "https://localhost:8080/"
        },
        "id": "fmxfAlMZWeJH",
        "outputId": "4cae3db1-64d9-49a1-cfbb-01c90de483fa"
      },
      "execution_count": null,
      "outputs": [
        {
          "output_type": "execute_result",
          "data": {
            "text/plain": [
              "True"
            ]
          },
          "metadata": {},
          "execution_count": 12
        }
      ]
    },
    {
      "cell_type": "code",
      "source": [
        "5 > 3 and 13 <= 12"
      ],
      "metadata": {
        "colab": {
          "base_uri": "https://localhost:8080/"
        },
        "id": "E6hpvmmHXHGU",
        "outputId": "e61ce9d5-d199-4157-d6d0-4e5d86338cd1"
      },
      "execution_count": null,
      "outputs": [
        {
          "output_type": "execute_result",
          "data": {
            "text/plain": [
              "False"
            ]
          },
          "metadata": {},
          "execution_count": 14
        }
      ]
    },
    {
      "cell_type": "code",
      "source": [
        "True and True"
      ],
      "metadata": {
        "colab": {
          "base_uri": "https://localhost:8080/"
        },
        "id": "GzQQoxlaXSNv",
        "outputId": "d2565c1a-cfbf-4b8c-e951-59a167c41ffc"
      },
      "execution_count": null,
      "outputs": [
        {
          "output_type": "execute_result",
          "data": {
            "text/plain": [
              "True"
            ]
          },
          "metadata": {},
          "execution_count": 15
        }
      ]
    },
    {
      "cell_type": "code",
      "source": [
        "True and False"
      ],
      "metadata": {
        "colab": {
          "base_uri": "https://localhost:8080/"
        },
        "id": "anD8JUavXTjk",
        "outputId": "0b788cc9-35dc-4e69-ee55-8ccceb159d4d"
      },
      "execution_count": null,
      "outputs": [
        {
          "output_type": "execute_result",
          "data": {
            "text/plain": [
              "False"
            ]
          },
          "metadata": {},
          "execution_count": 16
        }
      ]
    },
    {
      "cell_type": "code",
      "source": [
        "5 > 3 or 10 > 12"
      ],
      "metadata": {
        "colab": {
          "base_uri": "https://localhost:8080/"
        },
        "id": "i2_7D-46XC6V",
        "outputId": "15ca1966-586c-4d62-9b39-126dc20976c1"
      },
      "execution_count": null,
      "outputs": [
        {
          "output_type": "execute_result",
          "data": {
            "text/plain": [
              "True"
            ]
          },
          "metadata": {},
          "execution_count": 13
        }
      ]
    },
    {
      "cell_type": "code",
      "source": [
        "3 < 1 and 13 <= 13"
      ],
      "metadata": {
        "colab": {
          "base_uri": "https://localhost:8080/"
        },
        "id": "8gAfMOULXcIx",
        "outputId": "381af0a2-16cc-45ff-f86a-9fe823c03ddf"
      },
      "execution_count": null,
      "outputs": [
        {
          "output_type": "execute_result",
          "data": {
            "text/plain": [
              "False"
            ]
          },
          "metadata": {},
          "execution_count": 18
        }
      ]
    },
    {
      "cell_type": "code",
      "source": [
        "True or False"
      ],
      "metadata": {
        "colab": {
          "base_uri": "https://localhost:8080/"
        },
        "id": "m-hBXGEpXWh0",
        "outputId": "f3fdcd3e-f198-4871-a23f-0a185a090d26"
      },
      "execution_count": null,
      "outputs": [
        {
          "output_type": "execute_result",
          "data": {
            "text/plain": [
              "True"
            ]
          },
          "metadata": {},
          "execution_count": 17
        }
      ]
    },
    {
      "cell_type": "code",
      "source": [
        "not True"
      ],
      "metadata": {
        "colab": {
          "base_uri": "https://localhost:8080/"
        },
        "id": "xYOeFiBtXkjr",
        "outputId": "6a088ea7-5fbf-415e-fecc-d3f1364af4e7"
      },
      "execution_count": null,
      "outputs": [
        {
          "output_type": "execute_result",
          "data": {
            "text/plain": [
              "False"
            ]
          },
          "metadata": {},
          "execution_count": 20
        }
      ]
    },
    {
      "cell_type": "code",
      "source": [
        "not False"
      ],
      "metadata": {
        "colab": {
          "base_uri": "https://localhost:8080/"
        },
        "id": "bgfCEYhRXpIz",
        "outputId": "bca8a630-d70b-4183-8bb1-6ac980e312ad"
      },
      "execution_count": null,
      "outputs": [
        {
          "output_type": "execute_result",
          "data": {
            "text/plain": [
              "True"
            ]
          },
          "metadata": {},
          "execution_count": 22
        }
      ]
    },
    {
      "cell_type": "code",
      "source": [
        "not True != True"
      ],
      "metadata": {
        "colab": {
          "base_uri": "https://localhost:8080/"
        },
        "id": "NLIyoPEkXsZg",
        "outputId": "6dc214e1-4dde-462c-c884-ecf1ad26a57b"
      },
      "execution_count": null,
      "outputs": [
        {
          "output_type": "execute_result",
          "data": {
            "text/plain": [
              "True"
            ]
          },
          "metadata": {},
          "execution_count": 23
        }
      ]
    },
    {
      "cell_type": "code",
      "source": [
        "not True == False"
      ],
      "metadata": {
        "colab": {
          "base_uri": "https://localhost:8080/"
        },
        "id": "L3V1dPrdX0k4",
        "outputId": "74b77e09-2054-487b-d136-8338787d099d"
      },
      "execution_count": null,
      "outputs": [
        {
          "output_type": "execute_result",
          "data": {
            "text/plain": [
              "True"
            ]
          },
          "metadata": {},
          "execution_count": 24
        }
      ]
    },
    {
      "cell_type": "markdown",
      "source": [
        "## ***Conditional Statements***"
      ],
      "metadata": {
        "id": "gBv_XMiDYD_N"
      }
    },
    {
      "cell_type": "markdown",
      "source": [
        "Use **if**, **elif** and **else**"
      ],
      "metadata": {
        "id": "RdGPLAZ6YQXb"
      }
    },
    {
      "cell_type": "code",
      "source": [
        "if 10 == 5*2:\n",
        "  print(\"10 equal to 2 multiplied by 2\")"
      ],
      "metadata": {
        "colab": {
          "base_uri": "https://localhost:8080/"
        },
        "id": "thfy5BayYNsK",
        "outputId": "bd8cb1d7-fe05-4ce7-b500-3d1285968a4a"
      },
      "execution_count": null,
      "outputs": [
        {
          "output_type": "stream",
          "name": "stdout",
          "text": [
            "10 equal to 2 multiplied by 2\n"
          ]
        }
      ]
    },
    {
      "cell_type": "code",
      "source": [
        "if 10 == 3*2:\n",
        "  print(\"This will not executed\")"
      ],
      "metadata": {
        "id": "L4u5uUczYgmT"
      },
      "execution_count": null,
      "outputs": []
    },
    {
      "cell_type": "code",
      "source": [
        "x = 15\n",
        "if x >= 10:\n",
        "  print(\"This string will be executed\")\n",
        "print(\"Thanks for finishing the process\")"
      ],
      "metadata": {
        "colab": {
          "base_uri": "https://localhost:8080/"
        },
        "id": "y4yDE90qYpeH",
        "outputId": "2c73c6d0-4344-436c-8edb-ea1699feee95"
      },
      "execution_count": null,
      "outputs": [
        {
          "output_type": "stream",
          "name": "stdout",
          "text": [
            "This string will be executed\n",
            "Thanks for finishing the process\n"
          ]
        }
      ]
    },
    {
      "cell_type": "code",
      "source": [
        "x = 20\n",
        "if x >= 30:\n",
        "  print(\"You succeded\")\n",
        "if x <= 30:\n",
        "  print(\"You failed\")\n",
        "print(\"Thanks for joining us\")"
      ],
      "metadata": {
        "colab": {
          "base_uri": "https://localhost:8080/"
        },
        "id": "vq7UJbKCY57_",
        "outputId": "0c72266b-0276-431f-8825-74961299a063"
      },
      "execution_count": null,
      "outputs": [
        {
          "output_type": "stream",
          "name": "stdout",
          "text": [
            "You failed\n",
            "Thanks for joining us\n"
          ]
        }
      ]
    },
    {
      "cell_type": "code",
      "source": [
        "x = 20\n",
        "if x >= 30:\n",
        "  print(\"You succeded\")\n",
        "else:\n",
        "  print(\"You failed, try again later\")\n",
        "print(\"Thanks for joining us\")"
      ],
      "metadata": {
        "colab": {
          "base_uri": "https://localhost:8080/"
        },
        "id": "HjLEHBHyZOpM",
        "outputId": "2d23bbe5-a3df-4d72-abbd-21eb191eb263"
      },
      "execution_count": null,
      "outputs": [
        {
          "output_type": "stream",
          "name": "stdout",
          "text": [
            "You failed, try again later\n",
            "Thanks for joining us\n"
          ]
        }
      ]
    },
    {
      "cell_type": "code",
      "source": [
        "x = 30\n",
        "if x > 30:\n",
        "  print(\"You succeded\")\n",
        "elif x == 30:\n",
        "  print(\"You are in the middle\")\n",
        "else:\n",
        "  print(\"You failed\")\n",
        "print(\"Thanks for joining us\")"
      ],
      "metadata": {
        "colab": {
          "base_uri": "https://localhost:8080/"
        },
        "id": "6ASiDEluZfGO",
        "outputId": "667a0652-f908-45ce-eaaf-6a9c01a9616a"
      },
      "execution_count": null,
      "outputs": [
        {
          "output_type": "stream",
          "name": "stdout",
          "text": [
            "You are in the middle\n",
            "Thanks for joining us\n"
          ]
        }
      ]
    },
    {
      "cell_type": "markdown",
      "source": [
        "## ***The While Loops***"
      ],
      "metadata": {
        "id": "GiYwY1sSZ8di"
      }
    },
    {
      "cell_type": "markdown",
      "source": [
        "\n",
        "\n",
        "*   Loop types: **while** and **for** loops\n",
        "*   Repeate a block of code based on condition\n",
        "*   Start the while loop wyth the while keyboard\n",
        "\n"
      ],
      "metadata": {
        "id": "HoKlZjsRaCTa"
      }
    },
    {
      "cell_type": "code",
      "source": [
        "x = 1\n",
        "\n",
        "while x < 7:\n",
        "  print(x)\n",
        "  x = x + 1"
      ],
      "metadata": {
        "colab": {
          "base_uri": "https://localhost:8080/"
        },
        "id": "t9cobCmfZ1UH",
        "outputId": "dff31d19-6cfa-4896-e275-3076a7d37381"
      },
      "execution_count": null,
      "outputs": [
        {
          "output_type": "stream",
          "name": "stdout",
          "text": [
            "1\n",
            "2\n",
            "3\n",
            "4\n",
            "5\n",
            "6\n"
          ]
        }
      ]
    },
    {
      "cell_type": "code",
      "source": [
        ""
      ],
      "metadata": {
        "id": "oLwEUtYRas1j"
      },
      "execution_count": null,
      "outputs": []
    },
    {
      "cell_type": "markdown",
      "source": [
        "## ***The For Loops In Python***"
      ],
      "metadata": {
        "id": "5p_vfrIMa3E6"
      }
    },
    {
      "cell_type": "markdown",
      "source": [
        "\n",
        "\n",
        "*   Execution a portion of code once for each element in wequence of elements or iterate over collections\n",
        "*   Use the for keyword to start the for loop\n",
        "\n"
      ],
      "metadata": {
        "id": "yhGJcgb4a9ZK"
      }
    },
    {
      "cell_type": "code",
      "source": [
        "for chars in \"Programming\":\n",
        "  print(chars)"
      ],
      "metadata": {
        "colab": {
          "base_uri": "https://localhost:8080/"
        },
        "id": "RvreJJiTa7r0",
        "outputId": "0c009c46-895c-4d4e-b5cd-0440edc7a113"
      },
      "execution_count": null,
      "outputs": [
        {
          "output_type": "stream",
          "name": "stdout",
          "text": [
            "P\n",
            "r\n",
            "o\n",
            "g\n",
            "r\n",
            "a\n",
            "m\n",
            "m\n",
            "i\n",
            "n\n",
            "g\n"
          ]
        }
      ]
    },
    {
      "cell_type": "code",
      "source": [
        "for i in range(10):\n",
        "  print(\"Python\")"
      ],
      "metadata": {
        "colab": {
          "base_uri": "https://localhost:8080/"
        },
        "id": "KlM1cuHNbci_",
        "outputId": "1c5c8a91-e218-4722-f34e-5d1a15e5a228"
      },
      "execution_count": null,
      "outputs": [
        {
          "output_type": "stream",
          "name": "stdout",
          "text": [
            "Python\n",
            "Python\n",
            "Python\n",
            "Python\n",
            "Python\n",
            "Python\n",
            "Python\n",
            "Python\n",
            "Python\n",
            "Python\n"
          ]
        }
      ]
    },
    {
      "cell_type": "code",
      "source": [
        "for i in range(5, 15):\n",
        "  print(i + i) "
      ],
      "metadata": {
        "colab": {
          "base_uri": "https://localhost:8080/"
        },
        "id": "roBznHczbkLu",
        "outputId": "5e39d9fe-2aac-4bf0-d228-be41a9a9a4bb"
      },
      "execution_count": null,
      "outputs": [
        {
          "output_type": "stream",
          "name": "stdout",
          "text": [
            "10\n",
            "12\n",
            "14\n",
            "16\n",
            "18\n",
            "20\n",
            "22\n",
            "24\n",
            "26\n",
            "28\n"
          ]
        }
      ]
    },
    {
      "cell_type": "code",
      "source": [
        "for i in [1, 2, 3, 4, 5]:\n",
        "  print(i)"
      ],
      "metadata": {
        "colab": {
          "base_uri": "https://localhost:8080/"
        },
        "id": "sbgzOKWccBjv",
        "outputId": "d826c698-1bff-4f85-d554-5c7c8f626956"
      },
      "execution_count": null,
      "outputs": [
        {
          "output_type": "stream",
          "name": "stdout",
          "text": [
            "1\n",
            "2\n",
            "3\n",
            "4\n",
            "5\n"
          ]
        }
      ]
    },
    {
      "cell_type": "markdown",
      "source": [
        "## ***Library Functions***"
      ],
      "metadata": {
        "id": "LiUir6BJaX4t"
      }
    },
    {
      "cell_type": "markdown",
      "source": [
        "\n",
        "\n",
        "*   Function in Python is a block of code or a block of related statements to perform something\n",
        "*   Functions type: **Built in** and **User defined**\n",
        "*   Call it to work and we can call it many times\n",
        "\n",
        "\n"
      ],
      "metadata": {
        "id": "zq2JC677aqX2"
      }
    },
    {
      "cell_type": "markdown",
      "source": [
        "**Built-in Functions**"
      ],
      "metadata": {
        "id": "0VinDKErboRS"
      }
    },
    {
      "cell_type": "code",
      "source": [
        "abs(11)"
      ],
      "metadata": {
        "colab": {
          "base_uri": "https://localhost:8080/"
        },
        "id": "7WMSnwPBbscM",
        "outputId": "3e0abb85-33b4-4071-ca93-1db4c2f59e9a"
      },
      "execution_count": null,
      "outputs": [
        {
          "output_type": "execute_result",
          "data": {
            "text/plain": [
              "11"
            ]
          },
          "metadata": {},
          "execution_count": 2
        }
      ]
    },
    {
      "cell_type": "code",
      "source": [
        "abs(-12)"
      ],
      "metadata": {
        "colab": {
          "base_uri": "https://localhost:8080/"
        },
        "id": "B1RDBL6scZkJ",
        "outputId": "e9133d34-f66d-4f9d-b3a1-695c02f69236"
      },
      "execution_count": null,
      "outputs": [
        {
          "output_type": "execute_result",
          "data": {
            "text/plain": [
              "12"
            ]
          },
          "metadata": {},
          "execution_count": 3
        }
      ]
    },
    {
      "cell_type": "code",
      "source": [
        "bool(0)"
      ],
      "metadata": {
        "colab": {
          "base_uri": "https://localhost:8080/"
        },
        "id": "1OLyVDvjcc4d",
        "outputId": "caae329e-e307-47f2-d1c7-138d45159c7f"
      },
      "execution_count": null,
      "outputs": [
        {
          "output_type": "execute_result",
          "data": {
            "text/plain": [
              "False"
            ]
          },
          "metadata": {},
          "execution_count": 4
        }
      ]
    },
    {
      "cell_type": "code",
      "source": [
        "bool(1)"
      ],
      "metadata": {
        "colab": {
          "base_uri": "https://localhost:8080/"
        },
        "id": "zFRoBdZlcqXN",
        "outputId": "b3cdd5ae-63c9-49d9-9d5f-377ffb65cc1a"
      },
      "execution_count": null,
      "outputs": [
        {
          "output_type": "execute_result",
          "data": {
            "text/plain": [
              "True"
            ]
          },
          "metadata": {},
          "execution_count": 5
        }
      ]
    },
    {
      "cell_type": "code",
      "source": [
        "complex(3, 7)"
      ],
      "metadata": {
        "colab": {
          "base_uri": "https://localhost:8080/"
        },
        "id": "VpA_MTtgcrc5",
        "outputId": "7cf01f60-bd60-4846-f9e4-1691c4fee896"
      },
      "execution_count": null,
      "outputs": [
        {
          "output_type": "execute_result",
          "data": {
            "text/plain": [
              "(3+7j)"
            ]
          },
          "metadata": {},
          "execution_count": 6
        }
      ]
    },
    {
      "cell_type": "code",
      "source": [
        "x = dict(name = \"Ris\", age = \"18\")"
      ],
      "metadata": {
        "id": "YxHhBdamcurn"
      },
      "execution_count": null,
      "outputs": []
    },
    {
      "cell_type": "code",
      "source": [
        "x"
      ],
      "metadata": {
        "colab": {
          "base_uri": "https://localhost:8080/"
        },
        "id": "FOcyudtvc2Jk",
        "outputId": "f247eeb3-d7ff-4c04-9794-9ad00bfa1264"
      },
      "execution_count": null,
      "outputs": [
        {
          "output_type": "execute_result",
          "data": {
            "text/plain": [
              "{'age': '18', 'name': 'Ris'}"
            ]
          },
          "metadata": {},
          "execution_count": 8
        }
      ]
    },
    {
      "cell_type": "code",
      "source": [
        "dir(x)"
      ],
      "metadata": {
        "colab": {
          "base_uri": "https://localhost:8080/"
        },
        "id": "SxPMK6u2c2nl",
        "outputId": "8600b054-a3e9-41d5-99d2-45886d7f960f"
      },
      "execution_count": null,
      "outputs": [
        {
          "output_type": "execute_result",
          "data": {
            "text/plain": [
              "['__class__',\n",
              " '__contains__',\n",
              " '__delattr__',\n",
              " '__delitem__',\n",
              " '__dir__',\n",
              " '__doc__',\n",
              " '__eq__',\n",
              " '__format__',\n",
              " '__ge__',\n",
              " '__getattribute__',\n",
              " '__getitem__',\n",
              " '__gt__',\n",
              " '__hash__',\n",
              " '__init__',\n",
              " '__init_subclass__',\n",
              " '__iter__',\n",
              " '__le__',\n",
              " '__len__',\n",
              " '__lt__',\n",
              " '__ne__',\n",
              " '__new__',\n",
              " '__reduce__',\n",
              " '__reduce_ex__',\n",
              " '__repr__',\n",
              " '__setattr__',\n",
              " '__setitem__',\n",
              " '__sizeof__',\n",
              " '__str__',\n",
              " '__subclasshook__',\n",
              " 'clear',\n",
              " 'copy',\n",
              " 'fromkeys',\n",
              " 'get',\n",
              " 'items',\n",
              " 'keys',\n",
              " 'pop',\n",
              " 'popitem',\n",
              " 'setdefault',\n",
              " 'update',\n",
              " 'values']"
            ]
          },
          "metadata": {},
          "execution_count": 9
        }
      ]
    },
    {
      "cell_type": "code",
      "source": [
        "x = input(\"Enter  your name: \")"
      ],
      "metadata": {
        "colab": {
          "base_uri": "https://localhost:8080/"
        },
        "id": "YndIhr2Ac7zX",
        "outputId": "0dc15005-bf0b-45be-f2c0-f9c57234e8df"
      },
      "execution_count": null,
      "outputs": [
        {
          "name": "stdout",
          "output_type": "stream",
          "text": [
            "Enter  your name: Ris\n"
          ]
        }
      ]
    },
    {
      "cell_type": "code",
      "source": [
        "y = int(input(\"What's Your Age: \"))"
      ],
      "metadata": {
        "colab": {
          "base_uri": "https://localhost:8080/"
        },
        "id": "m0qUbM9edGiO",
        "outputId": "7fac5a12-6c67-4a3b-f507-6a54fa9ffcc1"
      },
      "execution_count": null,
      "outputs": [
        {
          "name": "stdout",
          "output_type": "stream",
          "text": [
            "What's Your Age: 18\n"
          ]
        }
      ]
    },
    {
      "cell_type": "code",
      "source": [
        "sum([1, 2,3 ,4, 5])"
      ],
      "metadata": {
        "colab": {
          "base_uri": "https://localhost:8080/"
        },
        "id": "YyggBkt8dOvQ",
        "outputId": "f85663ac-1541-436d-a85e-fc76717f6fe4"
      },
      "execution_count": null,
      "outputs": [
        {
          "output_type": "execute_result",
          "data": {
            "text/plain": [
              "15"
            ]
          },
          "metadata": {},
          "execution_count": 13
        }
      ]
    },
    {
      "cell_type": "code",
      "source": [
        "x = [1, 2, 3]\n",
        "y = [4, 5, 6]\n",
        "z = zip(x, y)"
      ],
      "metadata": {
        "id": "Y7cJTsLjdeA8"
      },
      "execution_count": null,
      "outputs": []
    },
    {
      "cell_type": "code",
      "source": [
        "print(list(z))"
      ],
      "metadata": {
        "colab": {
          "base_uri": "https://localhost:8080/"
        },
        "id": "QMCaMRomdvGz",
        "outputId": "4b4a15af-cf4e-461f-afc0-3749c5b06c4b"
      },
      "execution_count": null,
      "outputs": [
        {
          "output_type": "stream",
          "name": "stdout",
          "text": [
            "[(1, 4), (2, 5), (3, 6)]\n"
          ]
        }
      ]
    },
    {
      "cell_type": "markdown",
      "source": [
        "**User Defined**"
      ],
      "metadata": {
        "id": "AQam46Nlz0py"
      }
    },
    {
      "cell_type": "markdown",
      "source": [
        "Start with def keyword"
      ],
      "metadata": {
        "id": "XSbmXQpH80q0"
      }
    },
    {
      "cell_type": "code",
      "source": [
        "def addiction(x, y):\n",
        "  \"Return sum of x and y back to the caller\"\n",
        "  add = x + y\n",
        "  return add"
      ],
      "metadata": {
        "id": "Emc7QfP687EG"
      },
      "execution_count": null,
      "outputs": []
    },
    {
      "cell_type": "code",
      "source": [
        "addiction(10, 5)"
      ],
      "metadata": {
        "colab": {
          "base_uri": "https://localhost:8080/"
        },
        "id": "mRsRZd6X9Q_r",
        "outputId": "dc3dd7a4-5407-4d74-d864-664bdd06d789"
      },
      "execution_count": null,
      "outputs": [
        {
          "output_type": "execute_result",
          "data": {
            "text/plain": [
              "15"
            ]
          },
          "metadata": {},
          "execution_count": 2
        }
      ]
    },
    {
      "cell_type": "code",
      "source": [
        "help(addiction) #to give information abaout the function"
      ],
      "metadata": {
        "colab": {
          "base_uri": "https://localhost:8080/"
        },
        "id": "sXOXG24w9uc5",
        "outputId": "e00feed5-353d-487a-acd3-eb446ee968d2"
      },
      "execution_count": null,
      "outputs": [
        {
          "output_type": "stream",
          "name": "stdout",
          "text": [
            "Help on function addiction in module __main__:\n",
            "\n",
            "addiction(x, y)\n",
            "    Return sum of x and y back to the caller\n",
            "\n"
          ]
        }
      ]
    },
    {
      "cell_type": "markdown",
      "source": [
        "*Variable Scope*"
      ],
      "metadata": {
        "id": "1719qBNy-D_w"
      }
    },
    {
      "cell_type": "markdown",
      "source": [
        "There are 2 main scope in python\n",
        "\n",
        "\n",
        "1.   Global Scope\n",
        "2.   Local Scope\n",
        "\n"
      ],
      "metadata": {
        "id": "tPaguaoJ-Jxf"
      }
    },
    {
      "cell_type": "code",
      "source": [
        "x = 50 \n",
        "\"Global scope\"\n",
        "\n",
        "def int():\n",
        "  x = 10\n",
        "  \"local scope\"\n",
        "  print(x) "
      ],
      "metadata": {
        "id": "ZqoHwtv1-Q9i"
      },
      "execution_count": null,
      "outputs": []
    },
    {
      "cell_type": "code",
      "source": [
        "\n",
        "int() #print value local scope"
      ],
      "metadata": {
        "colab": {
          "base_uri": "https://localhost:8080/"
        },
        "id": "ky3ahRzR-lwR",
        "outputId": "d5777071-fddf-4842-cfb3-429cd852b7cb"
      },
      "execution_count": null,
      "outputs": [
        {
          "output_type": "stream",
          "name": "stdout",
          "text": [
            "10\n"
          ]
        }
      ]
    },
    {
      "cell_type": "code",
      "source": [
        "print(x) #print value global scope"
      ],
      "metadata": {
        "colab": {
          "base_uri": "https://localhost:8080/"
        },
        "id": "smD99hO3-87I",
        "outputId": "2524c622-ba23-4b8a-900d-636afc7d0e4a"
      },
      "execution_count": null,
      "outputs": [
        {
          "output_type": "stream",
          "name": "stdout",
          "text": [
            "50\n"
          ]
        }
      ]
    },
    {
      "cell_type": "code",
      "source": [
        ""
      ],
      "metadata": {
        "id": "P40iIfnX--7Z"
      },
      "execution_count": null,
      "outputs": []
    },
    {
      "cell_type": "markdown",
      "source": [
        "Make local scope becoming Global scope"
      ],
      "metadata": {
        "id": "EdCcklvi_RuP"
      }
    },
    {
      "cell_type": "code",
      "source": [
        "#x = 10\n",
        "\n",
        "def some():\n",
        "  global x #\"local scope\"\n",
        "  x = 20"
      ],
      "metadata": {
        "id": "C3anreRq_YI2"
      },
      "execution_count": null,
      "outputs": []
    },
    {
      "cell_type": "code",
      "source": [
        "print(x)"
      ],
      "metadata": {
        "colab": {
          "base_uri": "https://localhost:8080/"
        },
        "id": "9e1jOns3_q2q",
        "outputId": "c09d3d61-ded0-44b1-ac01-03da28168c5b"
      },
      "execution_count": null,
      "outputs": [
        {
          "output_type": "stream",
          "name": "stdout",
          "text": [
            "10\n"
          ]
        }
      ]
    },
    {
      "cell_type": "markdown",
      "source": [
        "## ***Anonymous Lambda***"
      ],
      "metadata": {
        "id": "LltRgLhEyurC"
      }
    },
    {
      "cell_type": "markdown",
      "source": [
        "*   Function Without Name\n",
        "*   Lambda Keyword\n",
        "*   Any Number Of Arguments\n",
        "*   Only a Single Expression\n",
        "*   Lambda Arguments: Ecpressions\n",
        "*   Return Function Objects\n",
        "\n",
        "\n",
        "\n"
      ],
      "metadata": {
        "id": "OcgNW6hwy23C"
      }
    },
    {
      "cell_type": "code",
      "source": [
        "multiply = lambda x: x * 10\n"
      ],
      "metadata": {
        "id": "sgVQhUBlyzln"
      },
      "execution_count": 1,
      "outputs": []
    },
    {
      "cell_type": "code",
      "source": [
        "print(multiply(3))"
      ],
      "metadata": {
        "colab": {
          "base_uri": "https://localhost:8080/"
        },
        "id": "wqwfBvsu0V-H",
        "outputId": "a928ef2a-443c-47dc-ecae-b5db2c754869"
      },
      "execution_count": 3,
      "outputs": [
        {
          "output_type": "stream",
          "name": "stdout",
          "text": [
            "30\n"
          ]
        }
      ]
    },
    {
      "cell_type": "code",
      "source": [
        "print(multiply(5))"
      ],
      "metadata": {
        "colab": {
          "base_uri": "https://localhost:8080/"
        },
        "id": "Vhtt2yUh0pgB",
        "outputId": "bdd268b1-141f-4b24-cde4-b5c016c835fb"
      },
      "execution_count": 5,
      "outputs": [
        {
          "output_type": "stream",
          "name": "stdout",
          "text": [
            "50\n"
          ]
        }
      ]
    },
    {
      "cell_type": "code",
      "source": [
        "remaind = lambda y: y % 2"
      ],
      "metadata": {
        "id": "0GQ8v3N40uza"
      },
      "execution_count": 8,
      "outputs": []
    },
    {
      "cell_type": "code",
      "source": [
        "print(remaind(87))"
      ],
      "metadata": {
        "colab": {
          "base_uri": "https://localhost:8080/"
        },
        "id": "F1lmV6yH1Eom",
        "outputId": "3029a028-f954-4628-f1ea-c654eb21629a"
      },
      "execution_count": 9,
      "outputs": [
        {
          "output_type": "stream",
          "name": "stdout",
          "text": [
            "1\n"
          ]
        }
      ]
    },
    {
      "cell_type": "code",
      "source": [
        "def testing(n):\n",
        "  return lambda i: i * n"
      ],
      "metadata": {
        "id": "FTvz3rv11HK2"
      },
      "execution_count": 12,
      "outputs": []
    },
    {
      "cell_type": "code",
      "source": [
        "num = testing(2)"
      ],
      "metadata": {
        "id": "WWhnm3H118LH"
      },
      "execution_count": 13,
      "outputs": []
    },
    {
      "cell_type": "code",
      "source": [
        "print(num(3))"
      ],
      "metadata": {
        "colab": {
          "base_uri": "https://localhost:8080/"
        },
        "id": "x1zd1qoe2L3Z",
        "outputId": "cdaa5fc8-b1f2-4c1b-c42a-2ff5d846e95a"
      },
      "execution_count": 14,
      "outputs": [
        {
          "output_type": "stream",
          "name": "stdout",
          "text": [
            "6\n"
          ]
        }
      ]
    },
    {
      "cell_type": "markdown",
      "source": [
        "## ***Breking Loop***"
      ],
      "metadata": {
        "id": "9yKE-26d3MIJ"
      }
    },
    {
      "cell_type": "markdown",
      "source": [
        "\n",
        "\n",
        "*   Using **break** statement to break out a loop in a condition\n",
        "*   We can break while loop and for loop to stop the loop\n",
        "\n"
      ],
      "metadata": {
        "id": "nq4eDmY23UWL"
      }
    },
    {
      "cell_type": "code",
      "source": [
        "for x in range(0, 10):\n",
        "  if x == 9:\n",
        "    break\n",
        "  print(x)\n",
        "print(f\"The last number in the loop is {x}\")"
      ],
      "metadata": {
        "colab": {
          "base_uri": "https://localhost:8080/"
        },
        "id": "73JbN7Um3SoU",
        "outputId": "ee90ee37-cd00-44f5-e066-25e403b8e715"
      },
      "execution_count": 17,
      "outputs": [
        {
          "output_type": "stream",
          "name": "stdout",
          "text": [
            "0\n",
            "1\n",
            "2\n",
            "3\n",
            "4\n",
            "5\n",
            "6\n",
            "7\n",
            "8\n",
            "The last number in the loop is 9\n"
          ]
        }
      ]
    },
    {
      "cell_type": "markdown",
      "source": [
        "## ***Continue Loop***"
      ],
      "metadata": {
        "id": "rzsDcT6I4o2c"
      }
    },
    {
      "cell_type": "code",
      "source": [
        "for x in range(0, 10):\n",
        "  if x == 5:\n",
        "    continue\n",
        "  print(x)\n",
        "\n",
        "print(f\"The last number of x = {x}\")"
      ],
      "metadata": {
        "colab": {
          "base_uri": "https://localhost:8080/"
        },
        "id": "QCHbd_Gi38oh",
        "outputId": "46445fdc-462b-420f-b41f-78fcc78d8131"
      },
      "execution_count": 20,
      "outputs": [
        {
          "output_type": "stream",
          "name": "stdout",
          "text": [
            "0\n",
            "1\n",
            "2\n",
            "3\n",
            "4\n",
            "6\n",
            "7\n",
            "8\n",
            "9\n",
            "The last number of x = 9\n"
          ]
        }
      ]
    },
    {
      "cell_type": "markdown",
      "source": [
        "## ***The Else Statement***"
      ],
      "metadata": {
        "id": "pJjKXfI05Ka9"
      }
    },
    {
      "cell_type": "markdown",
      "source": [
        "Use **else** with for loop when the loop is not terminated by break"
      ],
      "metadata": {
        "id": "G8fCgvgI5RVt"
      }
    },
    {
      "cell_type": "code",
      "source": [
        "message = \"Python is simple\"\n",
        "\n",
        "for i in message:\n",
        "  if i == \"z\":\n",
        "    break\n",
        "else:\n",
        "    print(\"There is no Z!\")"
      ],
      "metadata": {
        "colab": {
          "base_uri": "https://localhost:8080/"
        },
        "id": "aoVhBsAd5O08",
        "outputId": "4a29b10d-33be-4f94-bd25-168c90c9c12b"
      },
      "execution_count": 28,
      "outputs": [
        {
          "output_type": "stream",
          "name": "stdout",
          "text": [
            "There is no Z!\n"
          ]
        }
      ]
    },
    {
      "cell_type": "markdown",
      "source": [
        "## ***Check Password***"
      ],
      "metadata": {
        "id": "xQ9gtJoj6JGO"
      }
    },
    {
      "cell_type": "markdown",
      "source": [
        "Use for with range(), input(), if, print() and else"
      ],
      "metadata": {
        "id": "F5uPJmQr6PXQ"
      }
    },
    {
      "cell_type": "code",
      "source": [
        "for i in range(4):\n",
        "  password = input(\"Enter The Password: \")\n",
        "  if password == \"pass123\":\n",
        "    break\n",
        "  print(\"Wrong Password\")\n",
        "else:\n",
        "  print(\"The Process is Completed. Welcome!\")"
      ],
      "metadata": {
        "colab": {
          "base_uri": "https://localhost:8080/"
        },
        "id": "f_L6cVpv6Mub",
        "outputId": "096155c3-d88b-4b45-bc1e-0fe5f8f9056d"
      },
      "execution_count": 34,
      "outputs": [
        {
          "name": "stdout",
          "output_type": "stream",
          "text": [
            "Enter The Password: sxcd\n",
            "Wrong Password\n",
            "Enter The Password: sdcs\n",
            "Wrong Password\n",
            "Enter The Password: pass123\n"
          ]
        }
      ]
    },
    {
      "cell_type": "code",
      "source": [
        ""
      ],
      "metadata": {
        "id": "m2eLT3Kp7MYI"
      },
      "execution_count": null,
      "outputs": []
    }
  ]
}