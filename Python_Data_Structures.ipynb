{
  "nbformat": 4,
  "nbformat_minor": 0,
  "metadata": {
    "colab": {
      "name": "Python Data Structures.ipynb",
      "provenance": [],
      "collapsed_sections": [],
      "authorship_tag": "ABX9TyPck7m9dxx1I4Cbb+HAu/PX",
      "include_colab_link": true
    },
    "kernelspec": {
      "name": "python3",
      "display_name": "Python 3"
    },
    "language_info": {
      "name": "python"
    }
  },
  "cells": [
    {
      "cell_type": "markdown",
      "metadata": {
        "id": "view-in-github",
        "colab_type": "text"
      },
      "source": [
        "<a href=\"https://colab.research.google.com/github/muhammadrisma/Data-Science-Python/blob/main/Python_Data_Structures.ipynb\" target=\"_parent\"><img src=\"https://colab.research.google.com/assets/colab-badge.svg\" alt=\"Open In Colab\"/></a>"
      ]
    },
    {
      "cell_type": "markdown",
      "source": [
        "## ***List Data Struckture***"
      ],
      "metadata": {
        "id": "8NbMG47jrpZd"
      }
    },
    {
      "cell_type": "markdown",
      "source": [
        "\n",
        "\n",
        "*   A list is a mutable(dapat diubah) and ordered collection of items(tersusun) \n",
        "*   List syntax: list((1,2,3,4,5)) or [1,2,3,4,5]\n",
        "\n"
      ],
      "metadata": {
        "id": "YhxEY5xwrzHl"
      }
    },
    {
      "cell_type": "code",
      "source": [
        "#List of creation \n",
        "new_list = []\n",
        "new_list1 = list()\n",
        "print(new_list)\n",
        "print(new_list1)"
      ],
      "metadata": {
        "colab": {
          "base_uri": "https://localhost:8080/"
        },
        "id": "u3cI-A1ksJgU",
        "outputId": "887a42dc-f12d-4fcd-83a4-0ecb69591249"
      },
      "execution_count": null,
      "outputs": [
        {
          "output_type": "stream",
          "name": "stdout",
          "text": [
            "[]\n",
            "[]\n"
          ]
        }
      ]
    },
    {
      "cell_type": "code",
      "source": [
        "#Type of list\n",
        "type(new_list)\n",
        "type(new_list1)"
      ],
      "metadata": {
        "colab": {
          "base_uri": "https://localhost:8080/"
        },
        "id": "67rV8pUtvLz8",
        "outputId": "87c1bfde-7cb9-44ee-ef7b-b61fd7d92dcf"
      },
      "execution_count": null,
      "outputs": [
        {
          "output_type": "execute_result",
          "data": {
            "text/plain": [
              "list"
            ]
          },
          "metadata": {},
          "execution_count": 2
        }
      ]
    },
    {
      "cell_type": "code",
      "source": [
        "#List of number\n",
        "nums = [1, 2, 3, 4, 5]\n",
        "nums1 = list((10, 15, 20))\n",
        "print(nums)\n",
        "print(nums1)\n",
        "print(type(nums))\n",
        "print(type(nums1))\n"
      ],
      "metadata": {
        "colab": {
          "base_uri": "https://localhost:8080/"
        },
        "id": "vH_q4dRKvVeB",
        "outputId": "aa7dce67-72e8-4b4f-b644-87dfd469fb6c"
      },
      "execution_count": null,
      "outputs": [
        {
          "output_type": "stream",
          "name": "stdout",
          "text": [
            "[1, 2, 3, 4, 5]\n",
            "[10, 15, 20]\n",
            "<class 'list'>\n",
            "<class 'list'>\n"
          ]
        }
      ]
    },
    {
      "cell_type": "code",
      "source": [
        "#List of strings\n",
        "color = [\"Red\", \"Blue\", \"White\"] # we can use \"\" or ''\n",
        "print(color)\n",
        "print(type(color))"
      ],
      "metadata": {
        "colab": {
          "base_uri": "https://localhost:8080/"
        },
        "id": "0aixeDKzvpbh",
        "outputId": "16eb3be1-96ec-4bff-fc86-eef7c457ef5b"
      },
      "execution_count": null,
      "outputs": [
        {
          "output_type": "stream",
          "name": "stdout",
          "text": [
            "['Red', 'Blue', 'White']\n",
            "<class 'list'>\n"
          ]
        }
      ]
    },
    {
      "cell_type": "code",
      "source": [
        "#Multiple type in list\n",
        "mixed_list = [\"Red\", True, 10, 9.89] \n",
        "#this is called Mixed List, you can use int, boolean, str, fload at the same list\n",
        "print(mixed_list)\n",
        "print(type(mixed_list))"
      ],
      "metadata": {
        "colab": {
          "base_uri": "https://localhost:8080/"
        },
        "id": "TBMeGTuqwDyH",
        "outputId": "32b70275-563c-485b-a883-4346083abe6c"
      },
      "execution_count": null,
      "outputs": [
        {
          "output_type": "stream",
          "name": "stdout",
          "text": [
            "['Red', True, 10, 9.89]\n",
            "<class 'list'>\n"
          ]
        }
      ]
    },
    {
      "cell_type": "code",
      "source": [
        "#List in a list\n",
        "nums = [1, 2, [3.1, 3.5, 3.9], 4, 5]\n",
        "print(nums)"
      ],
      "metadata": {
        "colab": {
          "base_uri": "https://localhost:8080/"
        },
        "id": "nSt3LF4AwWWm",
        "outputId": "9ef549b7-3166-4cec-d7ad-a1e9f9d9f398"
      },
      "execution_count": null,
      "outputs": [
        {
          "output_type": "stream",
          "name": "stdout",
          "text": [
            "[1, 2, [3.1, 3.5, 3.9], 4, 5]\n"
          ]
        }
      ]
    },
    {
      "cell_type": "code",
      "source": [
        "#Acessing list item with the index  number\n",
        "print(nums[0]) #positive indexing\n",
        "print(nums[1])\n",
        "print(nums[2]) #showing all inner list because, inner list in index number 2\n",
        "print(nums[-2]) #negative indexing, start with last number\n",
        "print(nums[-1])"
      ],
      "metadata": {
        "colab": {
          "base_uri": "https://localhost:8080/"
        },
        "id": "D6fsVwj1wyGO",
        "outputId": "cdbce1cd-b76b-452b-a8cb-f9351b17b0cb"
      },
      "execution_count": null,
      "outputs": [
        {
          "output_type": "stream",
          "name": "stdout",
          "text": [
            "1\n",
            "2\n",
            "[3.1, 3.5, 3.9]\n",
            "4\n",
            "5\n"
          ]
        }
      ]
    },
    {
      "cell_type": "code",
      "source": [
        "#knowing the number of items in list \n",
        "len(nums)"
      ],
      "metadata": {
        "colab": {
          "base_uri": "https://localhost:8080/"
        },
        "id": "TtoHsneIxNIE",
        "outputId": "79ca2a60-c936-4833-8405-ac8c86dbf11f"
      },
      "execution_count": null,
      "outputs": [
        {
          "output_type": "execute_result",
          "data": {
            "text/plain": [
              "5"
            ]
          },
          "metadata": {},
          "execution_count": 12
        }
      ]
    },
    {
      "cell_type": "code",
      "source": [
        "nums[0:3] #show all item in index 0 to index 2"
      ],
      "metadata": {
        "colab": {
          "base_uri": "https://localhost:8080/"
        },
        "id": "JMrcJbC0xlVk",
        "outputId": "ebcc9a24-4713-4a51-f3f6-be82e3ad4c90"
      },
      "execution_count": null,
      "outputs": [
        {
          "output_type": "execute_result",
          "data": {
            "text/plain": [
              "[1, 2, [3.1, 3.5, 3.9]]"
            ]
          },
          "metadata": {},
          "execution_count": 13
        }
      ]
    },
    {
      "cell_type": "code",
      "source": [
        "nums[:3] #show all item in index 0 to index 2 but more easy"
      ],
      "metadata": {
        "colab": {
          "base_uri": "https://localhost:8080/"
        },
        "id": "Wc9utMjCx1VI",
        "outputId": "41e61418-0880-4d4b-8e2a-8bb3890820aa"
      },
      "execution_count": null,
      "outputs": [
        {
          "output_type": "execute_result",
          "data": {
            "text/plain": [
              "[1, 2, [3.1, 3.5, 3.9]]"
            ]
          },
          "metadata": {},
          "execution_count": 14
        }
      ]
    },
    {
      "cell_type": "code",
      "source": [
        "nums[3:] #show all item in index 3 to last index"
      ],
      "metadata": {
        "colab": {
          "base_uri": "https://localhost:8080/"
        },
        "id": "JfRXZPsfx_E0",
        "outputId": "b52a0def-91b1-4ae6-f659-e967dd858baf"
      },
      "execution_count": null,
      "outputs": [
        {
          "output_type": "execute_result",
          "data": {
            "text/plain": [
              "[4, 5]"
            ]
          },
          "metadata": {},
          "execution_count": 15
        }
      ]
    },
    {
      "cell_type": "code",
      "source": [
        "print(nums[-2]) #using negative indexing\n",
        "print(nums[-1])"
      ],
      "metadata": {
        "colab": {
          "base_uri": "https://localhost:8080/"
        },
        "id": "7SJCqkBPyFLY",
        "outputId": "43be4731-1d4c-47e1-82d9-9e4bcc17e6a0"
      },
      "execution_count": null,
      "outputs": [
        {
          "output_type": "stream",
          "name": "stdout",
          "text": [
            "4\n",
            "5\n"
          ]
        }
      ]
    },
    {
      "cell_type": "markdown",
      "source": [
        "**in & not in**"
      ],
      "metadata": {
        "id": "-LP0_tQ6l8Vf"
      }
    },
    {
      "cell_type": "code",
      "source": [
        "colors = [\"red\",\"white\",\"black\"]"
      ],
      "metadata": {
        "id": "7VEigegxyR_J"
      },
      "execution_count": null,
      "outputs": []
    },
    {
      "cell_type": "code",
      "source": [
        "\"white\" in colors #to check are \"white\" in colors list"
      ],
      "metadata": {
        "id": "MdK3sBPGluPO",
        "outputId": "01454d1a-f5e4-4714-eb21-93dd7539c267",
        "colab": {
          "base_uri": "https://localhost:8080/"
        }
      },
      "execution_count": null,
      "outputs": [
        {
          "output_type": "execute_result",
          "data": {
            "text/plain": [
              "True"
            ]
          },
          "metadata": {},
          "execution_count": 32
        }
      ]
    },
    {
      "cell_type": "code",
      "source": [
        "\"yellow\" not in colors #to check are \"white\" not in colors list"
      ],
      "metadata": {
        "id": "Bg30dr2dlwuZ",
        "colab": {
          "base_uri": "https://localhost:8080/"
        },
        "outputId": "7c160d6e-03e7-46d8-cd84-e2c5c40edfdf"
      },
      "execution_count": null,
      "outputs": [
        {
          "output_type": "execute_result",
          "data": {
            "text/plain": [
              "True"
            ]
          },
          "metadata": {},
          "execution_count": 33
        }
      ]
    },
    {
      "cell_type": "code",
      "source": [
        "colors.append(\"orange\") # .append function to add value to the list"
      ],
      "metadata": {
        "id": "LWWHjyMnmBM1"
      },
      "execution_count": null,
      "outputs": []
    },
    {
      "cell_type": "code",
      "source": [
        "print(colors) #now orange are in colors list"
      ],
      "metadata": {
        "colab": {
          "base_uri": "https://localhost:8080/"
        },
        "id": "NIubsGjnmjpR",
        "outputId": "c7dfd660-3631-4e1b-bda0-ad9bae349723"
      },
      "execution_count": null,
      "outputs": [
        {
          "output_type": "stream",
          "name": "stdout",
          "text": [
            "['red', 'white', 'black', 'orange']\n"
          ]
        }
      ]
    },
    {
      "cell_type": "code",
      "source": [
        "colors.insert(2, \"purple\") \n",
        "#to add value to the list but more specific,because you can place it in index nomber you chose"
      ],
      "metadata": {
        "id": "yQSUcLF4mlOa"
      },
      "execution_count": null,
      "outputs": []
    },
    {
      "cell_type": "code",
      "source": [
        "print(colors)"
      ],
      "metadata": {
        "colab": {
          "base_uri": "https://localhost:8080/"
        },
        "id": "VTW3ctnSnNmE",
        "outputId": "3ceb1c46-b8b2-4e09-af97-5a3bb4ba271f"
      },
      "execution_count": null,
      "outputs": [
        {
          "output_type": "stream",
          "name": "stdout",
          "text": [
            "['red', 'white', 'purple', 'black', 'orange']\n"
          ]
        }
      ]
    },
    {
      "cell_type": "code",
      "source": [
        "colors.pop()#remove random/specific item in list "
      ],
      "metadata": {
        "colab": {
          "base_uri": "https://localhost:8080/",
          "height": 35
        },
        "id": "YSxlTFs-n0hk",
        "outputId": "467b80bb-f39d-42cf-eceb-7eed314eb196"
      },
      "execution_count": null,
      "outputs": [
        {
          "output_type": "execute_result",
          "data": {
            "application/vnd.google.colaboratory.intrinsic+json": {
              "type": "string"
            },
            "text/plain": [
              "'orange'"
            ]
          },
          "metadata": {},
          "execution_count": 38
        }
      ]
    },
    {
      "cell_type": "code",
      "source": [
        "colors\n"
      ],
      "metadata": {
        "colab": {
          "base_uri": "https://localhost:8080/"
        },
        "id": "udV5tni5n2wQ",
        "outputId": "ebcb3c51-96a0-4b5d-bbbb-b63b5fcabdea"
      },
      "execution_count": null,
      "outputs": [
        {
          "output_type": "execute_result",
          "data": {
            "text/plain": [
              "['red', 'white', 'purple', 'black']"
            ]
          },
          "metadata": {},
          "execution_count": 39
        }
      ]
    },
    {
      "cell_type": "code",
      "source": [
        "colors.extend([\"green\", \"pink\"]) #to add more than one item"
      ],
      "metadata": {
        "id": "DriTeGRjn-yH"
      },
      "execution_count": null,
      "outputs": []
    },
    {
      "cell_type": "code",
      "source": [
        "colors"
      ],
      "metadata": {
        "colab": {
          "base_uri": "https://localhost:8080/"
        },
        "id": "ELC9L5XCoobg",
        "outputId": "6184c034-d0da-443c-dde4-49d4ede6fbb9"
      },
      "execution_count": null,
      "outputs": [
        {
          "output_type": "execute_result",
          "data": {
            "text/plain": [
              "['red', 'white', 'purple', 'black', 'green', 'pink']"
            ]
          },
          "metadata": {},
          "execution_count": 41
        }
      ]
    },
    {
      "cell_type": "code",
      "source": [
        "del colors[0] #to delete item must specific include the index number"
      ],
      "metadata": {
        "id": "Phe11akGoy4M"
      },
      "execution_count": null,
      "outputs": []
    },
    {
      "cell_type": "code",
      "source": [
        "colors"
      ],
      "metadata": {
        "colab": {
          "base_uri": "https://localhost:8080/"
        },
        "id": "hiMWc56xpEx9",
        "outputId": "2ee0fb28-fa1a-45b7-c19d-de2b175755a5"
      },
      "execution_count": null,
      "outputs": [
        {
          "output_type": "execute_result",
          "data": {
            "text/plain": [
              "['white', 'purple', 'black', 'green', 'pink']"
            ]
          },
          "metadata": {},
          "execution_count": 45
        }
      ]
    },
    {
      "cell_type": "code",
      "source": [
        "colors[0] = \"Navy\" #change the item based on index number"
      ],
      "metadata": {
        "id": "ddumk_CwpKzX"
      },
      "execution_count": null,
      "outputs": []
    },
    {
      "cell_type": "code",
      "source": [
        "colors"
      ],
      "metadata": {
        "colab": {
          "base_uri": "https://localhost:8080/"
        },
        "id": "w7YuMxq3pY_5",
        "outputId": "4d3a2c77-d809-4ae7-cc4e-a406af6aa7af"
      },
      "execution_count": null,
      "outputs": [
        {
          "output_type": "execute_result",
          "data": {
            "text/plain": [
              "['Navy', 'purple', 'black', 'green', 'pink']"
            ]
          },
          "metadata": {},
          "execution_count": 48
        }
      ]
    },
    {
      "cell_type": "markdown",
      "source": [
        "## ***Tuple Data Structures***"
      ],
      "metadata": {
        "id": "B6ROlFrVpkwt"
      }
    },
    {
      "cell_type": "markdown",
      "source": [
        "\n",
        "\n",
        "*   Tuple is immutable(Tidak dapat diubah) and ordered sequence\n",
        "*   Syntax: tuple((1,2,3)) or (1,2,3)\n",
        "\n"
      ],
      "metadata": {
        "id": "AomlIEU9pq-w"
      }
    },
    {
      "cell_type": "code",
      "source": [
        "nums = tuple((1, 2, 3, 4, 5))\n",
        "nums1 = (1, 2, 3, 4, 5, 6, 7)\n",
        "type(nums)\n",
        "type(nums1)"
      ],
      "metadata": {
        "colab": {
          "base_uri": "https://localhost:8080/"
        },
        "id": "auSuG7-GppR-",
        "outputId": "98732b52-9bbd-4fe4-ef34-8eecdb329e5e"
      },
      "execution_count": null,
      "outputs": [
        {
          "output_type": "execute_result",
          "data": {
            "text/plain": [
              "tuple"
            ]
          },
          "metadata": {},
          "execution_count": 52
        }
      ]
    },
    {
      "cell_type": "code",
      "source": [
        "len(nums1)"
      ],
      "metadata": {
        "colab": {
          "base_uri": "https://localhost:8080/"
        },
        "id": "v12rTQhUqorf",
        "outputId": "01d2ed42-2e57-4da6-a002-26beb3e4634e"
      },
      "execution_count": null,
      "outputs": [
        {
          "output_type": "execute_result",
          "data": {
            "text/plain": [
              "7"
            ]
          },
          "metadata": {},
          "execution_count": 53
        }
      ]
    },
    {
      "cell_type": "code",
      "source": [
        "nums1[2] #acces tuple iem using index number"
      ],
      "metadata": {
        "colab": {
          "base_uri": "https://localhost:8080/"
        },
        "id": "RInXA4larCd4",
        "outputId": "1944e92e-6f4c-4621-be6a-d1cc9e3ddfcb"
      },
      "execution_count": null,
      "outputs": [
        {
          "output_type": "execute_result",
          "data": {
            "text/plain": [
              "3"
            ]
          },
          "metadata": {},
          "execution_count": 54
        }
      ]
    },
    {
      "cell_type": "code",
      "source": [
        "nums1[0:4]"
      ],
      "metadata": {
        "colab": {
          "base_uri": "https://localhost:8080/"
        },
        "id": "6cvzrSl_rRMJ",
        "outputId": "9eb53a8c-1ef6-4542-81ab-479c883232da"
      },
      "execution_count": null,
      "outputs": [
        {
          "output_type": "execute_result",
          "data": {
            "text/plain": [
              "(1, 2, 3, 4)"
            ]
          },
          "metadata": {},
          "execution_count": 58
        }
      ]
    },
    {
      "cell_type": "code",
      "source": [
        "nums1[:4]"
      ],
      "metadata": {
        "colab": {
          "base_uri": "https://localhost:8080/"
        },
        "id": "F-llQ-_KrWTC",
        "outputId": "0b364507-2018-410f-865f-82449e11d5b7"
      },
      "execution_count": null,
      "outputs": [
        {
          "output_type": "execute_result",
          "data": {
            "text/plain": [
              "(1, 2, 3, 4)"
            ]
          },
          "metadata": {},
          "execution_count": 59
        }
      ]
    },
    {
      "cell_type": "code",
      "source": [
        "nums1[4:]"
      ],
      "metadata": {
        "colab": {
          "base_uri": "https://localhost:8080/"
        },
        "id": "bJZ9N_qbrZIY",
        "outputId": "7c803abf-6e0a-4a2f-b055-341b34948b86"
      },
      "execution_count": null,
      "outputs": [
        {
          "output_type": "execute_result",
          "data": {
            "text/plain": [
              "(5, 6, 7)"
            ]
          },
          "metadata": {},
          "execution_count": 60
        }
      ]
    },
    {
      "cell_type": "code",
      "source": [
        "nums[2] = 10 # if we want to change tuple item, it will be an error"
      ],
      "metadata": {
        "colab": {
          "base_uri": "https://localhost:8080/",
          "height": 165
        },
        "id": "1v9ZBLCOrbYu",
        "outputId": "d08a22dd-0cd2-41aa-ce0d-aff5a1097681"
      },
      "execution_count": null,
      "outputs": [
        {
          "output_type": "error",
          "ename": "TypeError",
          "evalue": "ignored",
          "traceback": [
            "\u001b[0;31m---------------------------------------------------------------------------\u001b[0m",
            "\u001b[0;31mTypeError\u001b[0m                                 Traceback (most recent call last)",
            "\u001b[0;32m<ipython-input-61-f9bee527ef47>\u001b[0m in \u001b[0;36m<module>\u001b[0;34m()\u001b[0m\n\u001b[0;32m----> 1\u001b[0;31m \u001b[0mnums\u001b[0m\u001b[0;34m[\u001b[0m\u001b[0;36m2\u001b[0m\u001b[0;34m]\u001b[0m \u001b[0;34m=\u001b[0m \u001b[0;36m10\u001b[0m \u001b[0;31m# if we want to change tuple item, it will be an error\u001b[0m\u001b[0;34m\u001b[0m\u001b[0;34m\u001b[0m\u001b[0m\n\u001b[0m",
            "\u001b[0;31mTypeError\u001b[0m: 'tuple' object does not support item assignment"
          ]
        }
      ]
    },
    {
      "cell_type": "code",
      "source": [
        "# we can't change tuple specifically but we can change tuple completely"
      ],
      "metadata": {
        "id": "G8DEuhJErxp9"
      },
      "execution_count": null,
      "outputs": []
    },
    {
      "cell_type": "code",
      "source": [
        "fruits = (\"leci\", \"apple\", \"manggo\")"
      ],
      "metadata": {
        "id": "Bu79EycksScV"
      },
      "execution_count": null,
      "outputs": []
    },
    {
      "cell_type": "code",
      "source": [
        "\"leci\" in fruits"
      ],
      "metadata": {
        "colab": {
          "base_uri": "https://localhost:8080/"
        },
        "id": "guHmplF6segR",
        "outputId": "3d38e7d7-c866-4c4c-a44f-9d4a4a9407e4"
      },
      "execution_count": null,
      "outputs": [
        {
          "output_type": "execute_result",
          "data": {
            "text/plain": [
              "True"
            ]
          },
          "metadata": {},
          "execution_count": 66
        }
      ]
    },
    {
      "cell_type": "code",
      "source": [
        "\"banana\" not in fruits"
      ],
      "metadata": {
        "colab": {
          "base_uri": "https://localhost:8080/"
        },
        "id": "6gMvx06jsgZC",
        "outputId": "178005a5-5ed4-4c28-d161-3615b9a2cfbc"
      },
      "execution_count": null,
      "outputs": [
        {
          "output_type": "execute_result",
          "data": {
            "text/plain": [
              "True"
            ]
          },
          "metadata": {},
          "execution_count": 67
        }
      ]
    },
    {
      "cell_type": "code",
      "source": [
        "del fruits"
      ],
      "metadata": {
        "id": "W1vml60tsnAb"
      },
      "execution_count": null,
      "outputs": []
    },
    {
      "cell_type": "code",
      "source": [
        "fruits #it will be error because fruits have been deleted"
      ],
      "metadata": {
        "colab": {
          "base_uri": "https://localhost:8080/",
          "height": 165
        },
        "id": "B81nj3cgsubt",
        "outputId": "1914bc43-0771-4520-fa1c-f54608651af9"
      },
      "execution_count": null,
      "outputs": [
        {
          "output_type": "error",
          "ename": "NameError",
          "evalue": "ignored",
          "traceback": [
            "\u001b[0;31m---------------------------------------------------------------------------\u001b[0m",
            "\u001b[0;31mNameError\u001b[0m                                 Traceback (most recent call last)",
            "\u001b[0;32m<ipython-input-69-997cfa04454b>\u001b[0m in \u001b[0;36m<module>\u001b[0;34m()\u001b[0m\n\u001b[0;32m----> 1\u001b[0;31m \u001b[0mfruits\u001b[0m \u001b[0;31m#it will be error because fruits have been deleted\u001b[0m\u001b[0;34m\u001b[0m\u001b[0;34m\u001b[0m\u001b[0m\n\u001b[0m",
            "\u001b[0;31mNameError\u001b[0m: name 'fruits' is not defined"
          ]
        }
      ]
    },
    {
      "cell_type": "markdown",
      "source": [
        "## ***Dictionaries Data Structures***"
      ],
      "metadata": {
        "id": "60PcPvBp_dtk"
      }
    },
    {
      "cell_type": "markdown",
      "source": [
        "\n",
        "\n",
        "*   Dictionary is mutable key value pairs to store collections\n",
        "*   Syntax: {Key:Value} or dict({Key:Value})\n",
        "\n"
      ],
      "metadata": {
        "id": "HCwcWdW3_opB"
      }
    },
    {
      "cell_type": "code",
      "source": [
        "new_dict = {\"Ronaldo\": 7, \"Messi\": 10, \"Salah\": 9}\n",
        "new_dict1 = dict({\"Kane\": 17, \"Kaka\": 4, \"Ronaldinho\": 11})  "
      ],
      "metadata": {
        "id": "kIIUZ-r9_ldd"
      },
      "execution_count": null,
      "outputs": []
    },
    {
      "cell_type": "code",
      "source": [
        "print(type(new_dict))\n",
        "print(type(new_dict1))"
      ],
      "metadata": {
        "colab": {
          "base_uri": "https://localhost:8080/"
        },
        "id": "HcwDWkt4BRjq",
        "outputId": "a0dc8106-fe86-4539-fbc6-1e1db31658ad"
      },
      "execution_count": null,
      "outputs": [
        {
          "output_type": "stream",
          "name": "stdout",
          "text": [
            "<class 'dict'>\n",
            "<class 'dict'>\n"
          ]
        }
      ]
    },
    {
      "cell_type": "code",
      "source": [
        "#sequence of tuples\n",
        "children = dict({\n",
        "    (\"Johny\", \"5\"),\n",
        "    (\"stephen\", \"6\"),\n",
        "    (\"Ali\", \"7\"),\n",
        "})"
      ],
      "metadata": {
        "id": "avJcRKnLBVAQ"
      },
      "execution_count": null,
      "outputs": []
    },
    {
      "cell_type": "code",
      "source": [
        "type(children)"
      ],
      "metadata": {
        "colab": {
          "base_uri": "https://localhost:8080/"
        },
        "id": "LA4HX14sBebE",
        "outputId": "beb28018-c5ef-451e-edd2-53dcefe48c03"
      },
      "execution_count": null,
      "outputs": [
        {
          "output_type": "execute_result",
          "data": {
            "text/plain": [
              "dict"
            ]
          },
          "metadata": {},
          "execution_count": 10
        }
      ]
    },
    {
      "cell_type": "code",
      "source": [
        "new_dict[\"Ronaldo\"]"
      ],
      "metadata": {
        "colab": {
          "base_uri": "https://localhost:8080/"
        },
        "id": "Jx2CK6P5B5Ob",
        "outputId": "22b8656d-b1d3-4883-d0cd-a0abe955558a"
      },
      "execution_count": null,
      "outputs": [
        {
          "output_type": "execute_result",
          "data": {
            "text/plain": [
              "7"
            ]
          },
          "metadata": {},
          "execution_count": 12
        }
      ]
    },
    {
      "cell_type": "code",
      "source": [
        "new_dict[\"Ronaldo\"] = \"6\" #change the value by the key"
      ],
      "metadata": {
        "id": "OYQA95vtCLmx"
      },
      "execution_count": null,
      "outputs": []
    },
    {
      "cell_type": "code",
      "source": [
        "new_dict"
      ],
      "metadata": {
        "colab": {
          "base_uri": "https://localhost:8080/"
        },
        "id": "sTzQ7Bp2Cu7-",
        "outputId": "c7385c6e-5ddd-4188-d61a-0b42b94fe460"
      },
      "execution_count": null,
      "outputs": [
        {
          "output_type": "execute_result",
          "data": {
            "text/plain": [
              "{'Messi': 10, 'Ronaldo': '6', 'Salah': 9}"
            ]
          },
          "metadata": {},
          "execution_count": 15
        }
      ]
    },
    {
      "cell_type": "code",
      "source": [
        "del new_dict[\"Ronaldo\"] #remove the value by the key"
      ],
      "metadata": {
        "id": "pzkkaoK8CyYc"
      },
      "execution_count": null,
      "outputs": []
    },
    {
      "cell_type": "code",
      "source": [
        "new_dict"
      ],
      "metadata": {
        "colab": {
          "base_uri": "https://localhost:8080/"
        },
        "id": "c0sSEfdxDGN9",
        "outputId": "684fd415-cb8f-452f-b1c7-8ac2b335da09"
      },
      "execution_count": null,
      "outputs": [
        {
          "output_type": "execute_result",
          "data": {
            "text/plain": [
              "{'Messi': 10, 'Salah': 9}"
            ]
          },
          "metadata": {},
          "execution_count": 17
        }
      ]
    },
    {
      "cell_type": "code",
      "source": [
        "\"Ronaldo\" in new_dict"
      ],
      "metadata": {
        "colab": {
          "base_uri": "https://localhost:8080/"
        },
        "id": "glQPI1ITDLEN",
        "outputId": "ca969cec-9a85-461b-eb7c-cc7b40bdea9f"
      },
      "execution_count": null,
      "outputs": [
        {
          "output_type": "execute_result",
          "data": {
            "text/plain": [
              "False"
            ]
          },
          "metadata": {},
          "execution_count": 18
        }
      ]
    },
    {
      "cell_type": "code",
      "source": [
        "\"Messi\" in new_dict"
      ],
      "metadata": {
        "colab": {
          "base_uri": "https://localhost:8080/"
        },
        "id": "KLZP03UIDZa7",
        "outputId": "f1b531c0-5927-4c5b-87b4-4850dcc4c791"
      },
      "execution_count": null,
      "outputs": [
        {
          "output_type": "execute_result",
          "data": {
            "text/plain": [
              "True"
            ]
          },
          "metadata": {},
          "execution_count": 19
        }
      ]
    },
    {
      "cell_type": "code",
      "source": [
        "new_dict[\"Mbbape\"] = \"8\" #to add new key and value"
      ],
      "metadata": {
        "id": "-1Cp5HMpDcKL"
      },
      "execution_count": null,
      "outputs": []
    },
    {
      "cell_type": "code",
      "source": [
        "new_dict"
      ],
      "metadata": {
        "colab": {
          "base_uri": "https://localhost:8080/"
        },
        "id": "8b0Ta1AdDt4S",
        "outputId": "f4cb0a83-e613-430b-887a-44edf5d03353"
      },
      "execution_count": null,
      "outputs": [
        {
          "output_type": "execute_result",
          "data": {
            "text/plain": [
              "{'Mbbape': '8', 'Messi': 10, 'Salah': 9}"
            ]
          },
          "metadata": {},
          "execution_count": 24
        }
      ]
    },
    {
      "cell_type": "markdown",
      "source": [
        "## ***Sets Data Structures***"
      ],
      "metadata": {
        "id": "aYzmsYDEBEqK"
      }
    },
    {
      "cell_type": "markdown",
      "source": [
        "*   Sets is unordered and immutable collection\n",
        "*   No duplicate in sets\n",
        "*   Syntax: {1,2,3} or set([1,2,3])\n",
        "\n",
        "\n"
      ],
      "metadata": {
        "id": "umLM5rvVBNwu"
      }
    },
    {
      "cell_type": "code",
      "source": [
        "sets_nums = set((2, 4, 6, 8 ,10))\n",
        "sets_nums1 = {1, 2, 3, 4 ,5, 6}"
      ],
      "metadata": {
        "id": "9qOxN1iFBJKJ"
      },
      "execution_count": 1,
      "outputs": []
    },
    {
      "cell_type": "code",
      "source": [
        "print(sets_nums)\n",
        "print(sets_nums1)"
      ],
      "metadata": {
        "colab": {
          "base_uri": "https://localhost:8080/"
        },
        "id": "VSP18zlbDIjJ",
        "outputId": "fd459a33-425c-45ee-9660-2a628b61893c"
      },
      "execution_count": 2,
      "outputs": [
        {
          "output_type": "stream",
          "name": "stdout",
          "text": [
            "{2, 4, 6, 8, 10}\n",
            "{1, 2, 3, 4, 5, 6}\n"
          ]
        }
      ]
    },
    {
      "cell_type": "code",
      "source": [
        "type(sets_nums)\n",
        "type(sets_nums1)"
      ],
      "metadata": {
        "colab": {
          "base_uri": "https://localhost:8080/"
        },
        "id": "ARAJwf_-DQPN",
        "outputId": "b9b80c50-8809-48ce-f574-108a9a6c23fa"
      },
      "execution_count": 3,
      "outputs": [
        {
          "output_type": "execute_result",
          "data": {
            "text/plain": [
              "set"
            ]
          },
          "metadata": {},
          "execution_count": 3
        }
      ]
    },
    {
      "cell_type": "code",
      "source": [
        " set(\"Python\") #convert strings to set"
      ],
      "metadata": {
        "colab": {
          "base_uri": "https://localhost:8080/"
        },
        "id": "wdXc39kQDjJt",
        "outputId": "a89dfc37-becb-490c-f2cb-ccbbdc019e0d"
      },
      "execution_count": 5,
      "outputs": [
        {
          "output_type": "execute_result",
          "data": {
            "text/plain": [
              "{'P', 'h', 'n', 'o', 't', 'y'}"
            ]
          },
          "metadata": {},
          "execution_count": 5
        }
      ]
    },
    {
      "cell_type": "code",
      "source": [
        "y = set({1: \"name\", 2: \"age\"}) #dictionary inside sets"
      ],
      "metadata": {
        "id": "z0g4-Z7sDxE5"
      },
      "execution_count": 13,
      "outputs": []
    },
    {
      "cell_type": "code",
      "source": [
        "type(y)"
      ],
      "metadata": {
        "colab": {
          "base_uri": "https://localhost:8080/"
        },
        "id": "dCE9-iPaEC8R",
        "outputId": "bd855f33-5cd3-410d-ddd0-7f8be1316951"
      },
      "execution_count": 14,
      "outputs": [
        {
          "output_type": "execute_result",
          "data": {
            "text/plain": [
              "set"
            ]
          },
          "metadata": {},
          "execution_count": 14
        }
      ]
    },
    {
      "cell_type": "code",
      "source": [
        "del y #remove sets"
      ],
      "metadata": {
        "id": "fIqNd-O7EIqI"
      },
      "execution_count": 15,
      "outputs": []
    },
    {
      "cell_type": "code",
      "source": [
        "y"
      ],
      "metadata": {
        "colab": {
          "base_uri": "https://localhost:8080/",
          "height": 165
        },
        "id": "s9eg4ANuEhIp",
        "outputId": "706dea4b-5e87-4b97-a29e-bd2a7a06b28f"
      },
      "execution_count": 16,
      "outputs": [
        {
          "output_type": "error",
          "ename": "NameError",
          "evalue": "ignored",
          "traceback": [
            "\u001b[0;31m---------------------------------------------------------------------------\u001b[0m",
            "\u001b[0;31mNameError\u001b[0m                                 Traceback (most recent call last)",
            "\u001b[0;32m<ipython-input-16-9063a9f0e032>\u001b[0m in \u001b[0;36m<module>\u001b[0;34m()\u001b[0m\n\u001b[0;32m----> 1\u001b[0;31m \u001b[0my\u001b[0m\u001b[0;34m\u001b[0m\u001b[0;34m\u001b[0m\u001b[0m\n\u001b[0m",
            "\u001b[0;31mNameError\u001b[0m: name 'y' is not defined"
          ]
        }
      ]
    },
    {
      "cell_type": "code",
      "source": [
        ""
      ],
      "metadata": {
        "id": "bDln0JmLEiSV"
      },
      "execution_count": null,
      "outputs": []
    }
  ]
}