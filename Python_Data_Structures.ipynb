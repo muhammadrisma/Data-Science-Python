{
  "nbformat": 4,
  "nbformat_minor": 0,
  "metadata": {
    "colab": {
      "name": "Python Data Structures.ipynb",
      "provenance": [],
      "collapsed_sections": [],
      "authorship_tag": "ABX9TyMpzyeAZ9JN8sKvmP8eTa3q",
      "include_colab_link": true
    },
    "kernelspec": {
      "name": "python3",
      "display_name": "Python 3"
    },
    "language_info": {
      "name": "python"
    }
  },
  "cells": [
    {
      "cell_type": "markdown",
      "metadata": {
        "id": "view-in-github",
        "colab_type": "text"
      },
      "source": [
        "<a href=\"https://colab.research.google.com/github/muhammadrisma/Data-Science-Python/blob/main/Python_Data_Structures.ipynb\" target=\"_parent\"><img src=\"https://colab.research.google.com/assets/colab-badge.svg\" alt=\"Open In Colab\"/></a>"
      ]
    },
    {
      "cell_type": "markdown",
      "source": [
        "## ***List Data Struckture***"
      ],
      "metadata": {
        "id": "8NbMG47jrpZd"
      }
    },
    {
      "cell_type": "markdown",
      "source": [
        "\n",
        "\n",
        "*   A list is a mutable(dapat diubah) and ordered collection of items(tersusun) \n",
        "*   List syntax: list((1,2,3,4,5)) or [1,2,3,4,5]\n",
        "\n"
      ],
      "metadata": {
        "id": "YhxEY5xwrzHl"
      }
    },
    {
      "cell_type": "code",
      "source": [
        "#List of creation \n",
        "new_list = []\n",
        "new_list1 = list()\n",
        "print(new_list)\n",
        "print(new_list1)"
      ],
      "metadata": {
        "colab": {
          "base_uri": "https://localhost:8080/"
        },
        "id": "u3cI-A1ksJgU",
        "outputId": "887a42dc-f12d-4fcd-83a4-0ecb69591249"
      },
      "execution_count": 1,
      "outputs": [
        {
          "output_type": "stream",
          "name": "stdout",
          "text": [
            "[]\n",
            "[]\n"
          ]
        }
      ]
    },
    {
      "cell_type": "code",
      "source": [
        "#Type of list\n",
        "type(new_list)\n",
        "type(new_list1)"
      ],
      "metadata": {
        "colab": {
          "base_uri": "https://localhost:8080/"
        },
        "id": "67rV8pUtvLz8",
        "outputId": "87c1bfde-7cb9-44ee-ef7b-b61fd7d92dcf"
      },
      "execution_count": 2,
      "outputs": [
        {
          "output_type": "execute_result",
          "data": {
            "text/plain": [
              "list"
            ]
          },
          "metadata": {},
          "execution_count": 2
        }
      ]
    },
    {
      "cell_type": "code",
      "source": [
        "#List of number\n",
        "nums = [1, 2, 3, 4, 5]\n",
        "nums1 = list((10, 15, 20))\n",
        "print(nums)\n",
        "print(nums1)\n",
        "print(type(nums))\n",
        "print(type(nums1))\n"
      ],
      "metadata": {
        "colab": {
          "base_uri": "https://localhost:8080/"
        },
        "id": "vH_q4dRKvVeB",
        "outputId": "aa7dce67-72e8-4b4f-b644-87dfd469fb6c"
      },
      "execution_count": 4,
      "outputs": [
        {
          "output_type": "stream",
          "name": "stdout",
          "text": [
            "[1, 2, 3, 4, 5]\n",
            "[10, 15, 20]\n",
            "<class 'list'>\n",
            "<class 'list'>\n"
          ]
        }
      ]
    },
    {
      "cell_type": "code",
      "source": [
        "#List of strings\n",
        "color = [\"Red\", \"Blue\", \"White\"] # we can use \"\" or ''\n",
        "print(color)\n",
        "print(type(color))"
      ],
      "metadata": {
        "colab": {
          "base_uri": "https://localhost:8080/"
        },
        "id": "0aixeDKzvpbh",
        "outputId": "16eb3be1-96ec-4bff-fc86-eef7c457ef5b"
      },
      "execution_count": 5,
      "outputs": [
        {
          "output_type": "stream",
          "name": "stdout",
          "text": [
            "['Red', 'Blue', 'White']\n",
            "<class 'list'>\n"
          ]
        }
      ]
    },
    {
      "cell_type": "code",
      "source": [
        "#Multiple type in list\n",
        "mixed_list = [\"Red\", True, 10, 9.89] \n",
        "#this is called Mixed List, you can use int, boolean, str, fload at the same list\n",
        "print(mixed_list)\n",
        "print(type(mixed_list))"
      ],
      "metadata": {
        "colab": {
          "base_uri": "https://localhost:8080/"
        },
        "id": "TBMeGTuqwDyH",
        "outputId": "32b70275-563c-485b-a883-4346083abe6c"
      },
      "execution_count": 7,
      "outputs": [
        {
          "output_type": "stream",
          "name": "stdout",
          "text": [
            "['Red', True, 10, 9.89]\n",
            "<class 'list'>\n"
          ]
        }
      ]
    },
    {
      "cell_type": "code",
      "source": [
        "#List in a list\n",
        "nums = [1, 2, [3.1, 3.5, 3.9], 4, 5]\n",
        "print(nums)"
      ],
      "metadata": {
        "colab": {
          "base_uri": "https://localhost:8080/"
        },
        "id": "nSt3LF4AwWWm",
        "outputId": "9ef549b7-3166-4cec-d7ad-a1e9f9d9f398"
      },
      "execution_count": 8,
      "outputs": [
        {
          "output_type": "stream",
          "name": "stdout",
          "text": [
            "[1, 2, [3.1, 3.5, 3.9], 4, 5]\n"
          ]
        }
      ]
    },
    {
      "cell_type": "code",
      "source": [
        "#Acessing list item with the index  number\n",
        "print(nums[0]) #positive indexing\n",
        "print(nums[1])\n",
        "print(nums[2]) #showing all inner list because, inner list in index number 2\n",
        "print(nums[-2]) #negative indexing, start with last number\n",
        "print(nums[-1])"
      ],
      "metadata": {
        "colab": {
          "base_uri": "https://localhost:8080/"
        },
        "id": "D6fsVwj1wyGO",
        "outputId": "cdbce1cd-b76b-452b-a8cb-f9351b17b0cb"
      },
      "execution_count": 11,
      "outputs": [
        {
          "output_type": "stream",
          "name": "stdout",
          "text": [
            "1\n",
            "2\n",
            "[3.1, 3.5, 3.9]\n",
            "4\n",
            "5\n"
          ]
        }
      ]
    },
    {
      "cell_type": "code",
      "source": [
        "#knowing the number of items in list \n",
        "len(nums)"
      ],
      "metadata": {
        "colab": {
          "base_uri": "https://localhost:8080/"
        },
        "id": "TtoHsneIxNIE",
        "outputId": "79ca2a60-c936-4833-8405-ac8c86dbf11f"
      },
      "execution_count": 12,
      "outputs": [
        {
          "output_type": "execute_result",
          "data": {
            "text/plain": [
              "5"
            ]
          },
          "metadata": {},
          "execution_count": 12
        }
      ]
    },
    {
      "cell_type": "code",
      "source": [
        "nums[0:3] #show all item in index 0 to index 2"
      ],
      "metadata": {
        "colab": {
          "base_uri": "https://localhost:8080/"
        },
        "id": "JMrcJbC0xlVk",
        "outputId": "ebcc9a24-4713-4a51-f3f6-be82e3ad4c90"
      },
      "execution_count": 13,
      "outputs": [
        {
          "output_type": "execute_result",
          "data": {
            "text/plain": [
              "[1, 2, [3.1, 3.5, 3.9]]"
            ]
          },
          "metadata": {},
          "execution_count": 13
        }
      ]
    },
    {
      "cell_type": "code",
      "source": [
        "nums[:3] #show all item in index 0 to index 2 but more easy"
      ],
      "metadata": {
        "colab": {
          "base_uri": "https://localhost:8080/"
        },
        "id": "Wc9utMjCx1VI",
        "outputId": "41e61418-0880-4d4b-8e2a-8bb3890820aa"
      },
      "execution_count": 14,
      "outputs": [
        {
          "output_type": "execute_result",
          "data": {
            "text/plain": [
              "[1, 2, [3.1, 3.5, 3.9]]"
            ]
          },
          "metadata": {},
          "execution_count": 14
        }
      ]
    },
    {
      "cell_type": "code",
      "source": [
        "nums[3:] #show all item in index 3 to last index"
      ],
      "metadata": {
        "colab": {
          "base_uri": "https://localhost:8080/"
        },
        "id": "JfRXZPsfx_E0",
        "outputId": "b52a0def-91b1-4ae6-f659-e967dd858baf"
      },
      "execution_count": 15,
      "outputs": [
        {
          "output_type": "execute_result",
          "data": {
            "text/plain": [
              "[4, 5]"
            ]
          },
          "metadata": {},
          "execution_count": 15
        }
      ]
    },
    {
      "cell_type": "code",
      "source": [
        "print(nums[-2]) #using negative indexing\n",
        "print(nums[-1])"
      ],
      "metadata": {
        "colab": {
          "base_uri": "https://localhost:8080/"
        },
        "id": "7SJCqkBPyFLY",
        "outputId": "43be4731-1d4c-47e1-82d9-9e4bcc17e6a0"
      },
      "execution_count": 16,
      "outputs": [
        {
          "output_type": "stream",
          "name": "stdout",
          "text": [
            "4\n",
            "5\n"
          ]
        }
      ]
    },
    {
      "cell_type": "code",
      "source": [
        ""
      ],
      "metadata": {
        "id": "7VEigegxyR_J"
      },
      "execution_count": null,
      "outputs": []
    }
  ]
}