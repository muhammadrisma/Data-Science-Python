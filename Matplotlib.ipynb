{
  "nbformat": 4,
  "nbformat_minor": 0,
  "metadata": {
    "colab": {
      "name": "Matplotlib.ipynb",
      "provenance": [],
      "collapsed_sections": [],
      "authorship_tag": "ABX9TyOcqegpOGTy0xmpxhwJSDgq",
      "include_colab_link": true
    },
    "kernelspec": {
      "name": "python3",
      "display_name": "Python 3"
    },
    "language_info": {
      "name": "python"
    }
  },
  "cells": [
    {
      "cell_type": "markdown",
      "metadata": {
        "id": "view-in-github",
        "colab_type": "text"
      },
      "source": [
        "<a href=\"https://colab.research.google.com/github/muhammadrisma/Data-Science-Python/blob/main/Matplotlib.ipynb\" target=\"_parent\"><img src=\"https://colab.research.google.com/assets/colab-badge.svg\" alt=\"Open In Colab\"/></a>"
      ]
    },
    {
      "cell_type": "markdown",
      "source": [
        "# ***Matplotlib Data Visualization***\n",
        "* Using matplotlib library to visualize data with plots and graphs .. It's an open source library\n",
        "* import matplotlib.pyplot as plt\n",
        "* import numpy as np"
      ],
      "metadata": {
        "id": "dQZ0lUD0e-z3"
      }
    },
    {
      "cell_type": "code",
      "execution_count": 11,
      "metadata": {
        "id": "21zpLEtgc8OE"
      },
      "outputs": [],
      "source": [
        "import matplotlib.pyplot as plt\n",
        "import numpy as np"
      ]
    },
    {
      "cell_type": "code",
      "source": [
        "new_data = np.arange(9) "
      ],
      "metadata": {
        "id": "YDjK44infR10"
      },
      "execution_count": 12,
      "outputs": []
    },
    {
      "cell_type": "code",
      "source": [
        "new_data"
      ],
      "metadata": {
        "colab": {
          "base_uri": "https://localhost:8080/",
          "height": 34
        },
        "id": "-vCn6AalfbnE",
        "outputId": "e7fba7ac-4de4-418c-d6aa-77e887909c63"
      },
      "execution_count": 13,
      "outputs": [
        {
          "output_type": "execute_result",
          "data": {
            "text/plain": [
              "array([0, 1, 2, 3, 4, 5, 6, 7, 8])"
            ]
          },
          "metadata": {},
          "execution_count": 13
        }
      ]
    },
    {
      "cell_type": "code",
      "source": [
        "%matplotlib notebook \n",
        "%pylab inline"
      ],
      "metadata": {
        "colab": {
          "base_uri": "https://localhost:8080/",
          "height": 34
        },
        "id": "g4ET6c9Mff6a",
        "outputId": "f6e1cfa8-ac25-4fdf-e1ea-c05bd202f67f"
      },
      "execution_count": 29,
      "outputs": [
        {
          "output_type": "stream",
          "name": "stdout",
          "text": [
            "Populating the interactive namespace from numpy and matplotlib\n"
          ]
        }
      ]
    },
    {
      "cell_type": "code",
      "source": [
        "plt.plot(new_data)\n",
        "plt.title(\"The Data Graph\")\n",
        "plt.xlabel(\"X name\")\n",
        "plt.ylabel(\"Y name\")"
      ],
      "metadata": {
        "colab": {
          "base_uri": "https://localhost:8080/",
          "height": 312
        },
        "id": "sBFjch-ffp9B",
        "outputId": "57377ec9-0fbd-4b90-8a01-3014c2403ff0"
      },
      "execution_count": 37,
      "outputs": [
        {
          "output_type": "execute_result",
          "data": {
            "text/plain": [
              "Text(0, 0.5, 'Y name')"
            ]
          },
          "metadata": {},
          "execution_count": 37
        },
        {
          "output_type": "display_data",
          "data": {
            "image/png": "[encoded data removed]",
            "text/plain": [
              "<Figure size 432x288 with 1 Axes>"
            ]
          },
          "metadata": {
            "needs_background": "light"
          }
        }
      ]
    },
    {
      "cell_type": "code",
      "source": [
        "x = [1, 2, 3, 4, 5, 6, 7]\n",
        "y = [1, 4, 9, 16, 25, 36, 49]"
      ],
      "metadata": {
        "id": "y931ur8tiKia"
      },
      "execution_count": 40,
      "outputs": []
    },
    {
      "cell_type": "code",
      "source": [
        "plt.plot(x, y)"
      ],
      "metadata": {
        "colab": {
          "base_uri": "https://localhost:8080/",
          "height": 282
        },
        "id": "7s1Sg-3GiqIi",
        "outputId": "e6ef20f5-6ca1-49c5-86eb-7ad61408858f"
      },
      "execution_count": 41,
      "outputs": [
        {
          "output_type": "execute_result",
          "data": {
            "text/plain": [
              "[<matplotlib.lines.Line2D at 0x7f9d974a7410>]"
            ]
          },
          "metadata": {},
          "execution_count": 41
        },
        {
          "output_type": "display_data",
          "data": {
            "image/png": "[encoded data removed]",
            "text/plain": [
              "<Figure size 432x288 with 1 Axes>"
            ]
          },
          "metadata": {
            "needs_background": "light"
          }
        }
      ]
    },
    {
      "cell_type": "code",
      "source": [
        "data1 = np.arange(2, 7, 0.3)"
      ],
      "metadata": {
        "id": "Xs_c0vx2jP8m"
      },
      "execution_count": 43,
      "outputs": []
    },
    {
      "cell_type": "code",
      "source": [
        "plt.plot (data1, data1, \"r--\", data1, data1**2, \"bs\", data1, data1**3, \"y^\")"
      ],
      "metadata": {
        "colab": {
          "base_uri": "https://localhost:8080/",
          "height": 316
        },
        "id": "IiS5jtETisBx",
        "outputId": "edd88e30-2db7-4f99-e758-69e8eb2a7884"
      },
      "execution_count": 50,
      "outputs": [
        {
          "output_type": "execute_result",
          "data": {
            "text/plain": [
              "[<matplotlib.lines.Line2D at 0x7f9d9726e410>,\n",
              " <matplotlib.lines.Line2D at 0x7f9d9726e610>,\n",
              " <matplotlib.lines.Line2D at 0x7f9d9726e390>]"
            ]
          },
          "metadata": {},
          "execution_count": 50
        },
        {
          "output_type": "display_data",
          "data": {
            "image/png": "[encoded data removed]",
            "text/plain": [
              "<Figure size 432x288 with 1 Axes>"
            ]
          },
          "metadata": {
            "needs_background": "light"
          }
        }
      ]
    },
    {
      "cell_type": "code",
      "source": [
        "plt.savefig(\"newvisulize.png\") #to save the graph"
      ],
      "metadata": {
        "colab": {
          "base_uri": "https://localhost:8080/",
          "height": 34
        },
        "id": "JtFWnSuwjK4K",
        "outputId": "21c271bb-c355-494d-9fb4-e19219bf6ba5"
      },
      "execution_count": 51,
      "outputs": [
        {
          "output_type": "display_data",
          "data": {
            "text/plain": [
              "<Figure size 432x288 with 0 Axes>"
            ]
          },
          "metadata": {}
        }
      ]
    },
    {
      "cell_type": "code",
      "source": [
        "new_films = [\"film1\", \"film2\", \"film3\", \"film4\"]\n",
        "awards = [3, 9, 1, 5]"
      ],
      "metadata": {
        "id": "Jk9Q350nkEh0"
      },
      "execution_count": 52,
      "outputs": []
    },
    {
      "cell_type": "code",
      "source": [
        "plt.bar(range(len(new_films)), awards)"
      ],
      "metadata": {
        "colab": {
          "base_uri": "https://localhost:8080/",
          "height": 282
        },
        "id": "EyTNqikLkjjS",
        "outputId": "3e765c57-92cc-4678-cdcd-25ec60bf4f93"
      },
      "execution_count": 53,
      "outputs": [
        {
          "output_type": "execute_result",
          "data": {
            "text/plain": [
              "<BarContainer object of 4 artists>"
            ]
          },
          "metadata": {},
          "execution_count": 53
        },
        {
          "output_type": "display_data",
          "data": {
            "image/png": "[encoded data removed]",
            "text/plain": [
              "<Figure size 432x288 with 1 Axes>"
            ]
          },
          "metadata": {
            "needs_background": "light"
          }
        }
      ]
    },
    {
      "cell_type": "code",
      "source": [
        "plt.title(\"Top Films\")"
      ],
      "metadata": {
        "colab": {
          "base_uri": "https://localhost:8080/",
          "height": 298
        },
        "id": "3OjfnX8Kkuqy",
        "outputId": "d2bc80be-9b1e-44c5-d4ef-941c7a6e2cbf"
      },
      "execution_count": 54,
      "outputs": [
        {
          "output_type": "execute_result",
          "data": {
            "text/plain": [
              "Text(0.5, 1.0, 'Top Films')"
            ]
          },
          "metadata": {},
          "execution_count": 54
        },
        {
          "output_type": "display_data",
          "data": {
            "image/png": "[encoded data removed]",
            "text/plain": [
              "<Figure size 432x288 with 1 Axes>"
            ]
          },
          "metadata": {
            "needs_background": "light"
          }
        }
      ]
    },
    {
      "cell_type": "code",
      "source": [
        "plt.ylabel(\"No. Of Awards\")"
      ],
      "metadata": {
        "colab": {
          "base_uri": "https://localhost:8080/",
          "height": 286
        },
        "id": "4Ot98lSVk4ia",
        "outputId": "bde0c911-8f30-4a64-8063-2d75b0dbd48e"
      },
      "execution_count": 55,
      "outputs": [
        {
          "output_type": "execute_result",
          "data": {
            "text/plain": [
              "Text(0, 0.5, 'No. Of Awards')"
            ]
          },
          "metadata": {},
          "execution_count": 55
        },
        {
          "output_type": "display_data",
          "data": {
            "image/png": "[encoded data removed]",
            "text/plain": [
              "<Figure size 432x288 with 1 Axes>"
            ]
          },
          "metadata": {
            "needs_background": "light"
          }
        }
      ]
    },
    {
      "cell_type": "code",
      "source": [
        "plt.xticks(range(len(new_films)), new_films)"
      ],
      "metadata": {
        "colab": {
          "base_uri": "https://localhost:8080/",
          "height": 408
        },
        "id": "Eq91F7GKlDMw",
        "outputId": "7f72d7f9-5733-47f5-c70c-96821d28910b"
      },
      "execution_count": 56,
      "outputs": [
        {
          "output_type": "execute_result",
          "data": {
            "text/plain": [
              "([<matplotlib.axis.XTick at 0x7f9d970dc750>,\n",
              "  <matplotlib.axis.XTick at 0x7f9d9707d290>,\n",
              "  <matplotlib.axis.XTick at 0x7f9d96fb6290>,\n",
              "  <matplotlib.axis.XTick at 0x7f9d96fc0ed0>],\n",
              " [Text(0, 0, 'film1'),\n",
              "  Text(0, 0, 'film2'),\n",
              "  Text(0, 0, 'film3'),\n",
              "  Text(0, 0, 'film4')])"
            ]
          },
          "metadata": {},
          "execution_count": 56
        },
        {
          "output_type": "display_data",
          "data": {
            "image/png": "[encoded data removed]",
            "text/plain": [
              "<Figure size 432x288 with 1 Axes>"
            ]
          },
          "metadata": {
            "needs_background": "light"
          }
        }
      ]
    },
    {
      "cell_type": "code",
      "source": [
        "plt.bar(range(len(new_films)), awards)\n",
        "plt.title(\"Top Films\")\n",
        "plt.ylabel(\"No. Of Awards\")\n",
        "plt.xticks(range(len(new_films)), new_films)"
      ],
      "metadata": {
        "colab": {
          "base_uri": "https://localhost:8080/",
          "height": 420
        },
        "id": "29uTjXMKlNpI",
        "outputId": "4a1ba2af-f714-4654-da72-0a7030f98810"
      },
      "execution_count": 57,
      "outputs": [
        {
          "output_type": "execute_result",
          "data": {
            "text/plain": [
              "([<matplotlib.axis.XTick at 0x7f9d96fc1350>,\n",
              "  <matplotlib.axis.XTick at 0x7f9d96f8c090>,\n",
              "  <matplotlib.axis.XTick at 0x7f9d96f89c90>,\n",
              "  <matplotlib.axis.XTick at 0x7f9d96f3c610>],\n",
              " [Text(0, 0, 'film1'),\n",
              "  Text(0, 0, 'film2'),\n",
              "  Text(0, 0, 'film3'),\n",
              "  Text(0, 0, 'film4')])"
            ]
          },
          "metadata": {},
          "execution_count": 57
        },
        {
          "output_type": "display_data",
          "data": {
            "image/png": "[encoded data removed]",
            "text/plain": [
              "<Figure size 432x288 with 1 Axes>"
            ]
          },
          "metadata": {
            "needs_background": "light"
          }
        }
      ]
    },
    {
      "cell_type": "markdown",
      "source": [
        "# ***Histograms***\n",
        "A histogram is a graph that is used to show data in frequency distributions.\n",
        "We can use the function from the pipeline to create that, to create histograms and python programming\n",
        "* Using matplotlib.pyplot to show frequency\n",
        "distributions\n",
        "\n",
        "\n",
        "```\n",
        "plt.hist()\n",
        "```\n",
        "\n"
      ],
      "metadata": {
        "id": "0rHsUab1lhCd"
      }
    },
    {
      "cell_type": "code",
      "source": [
        "import matplotlib.pyplot as plt\n",
        "import numpy as np"
      ],
      "metadata": {
        "id": "d0q8f15klXhd"
      },
      "execution_count": 58,
      "outputs": []
    },
    {
      "cell_type": "code",
      "source": [
        "new_h = np.random.normal (150, 15, 230) \n",
        "\n",
        "#The compiler bready as Empy to use an ample library to create or generate random array with 230 values.\n",
        "#And these values here will concentrate around 150 and the standard deviation for that is equal to 15."
      ],
      "metadata": {
        "id": "9qUa3FmSl48l"
      },
      "execution_count": 61,
      "outputs": []
    },
    {
      "cell_type": "code",
      "source": [
        "plt.hist(new_h)\n",
        "plt.show()"
      ],
      "metadata": {
        "colab": {
          "base_uri": "https://localhost:8080/",
          "height": 265
        },
        "id": "dj1N7FEJmKlX",
        "outputId": "182d844a-221e-41ca-fe9d-aae821bc54d3"
      },
      "execution_count": 63,
      "outputs": [
        {
          "output_type": "display_data",
          "data": {
            "image/png": "[encoded data removed]",
            "text/plain": [
              "<Figure size 432x288 with 1 Axes>"
            ]
          },
          "metadata": {
            "needs_background": "light"
          }
        }
      ]
    },
    {
      "cell_type": "markdown",
      "source": [
        "# ***Pie Charts***\n",
        "* Using matplotlib.pyplot to create Pie Charts\n",
        "\n",
        "\n",
        "```\n",
        "plt.pie()\n",
        "```\n",
        "\n"
      ],
      "metadata": {
        "id": "_6hH5Hx-m53e"
      }
    },
    {
      "cell_type": "code",
      "source": [
        "import matplotlib.pyplot as plt\n",
        "import numpy as np\n",
        "\n",
        "x = np.array([37, 27, 27, 17])\n",
        "ch_labels =  [\"first\", \"second\", \"third\", \"fourth\"]\n",
        "plt.pie(x, labels = ch_labels)\n",
        "plt.show()"
      ],
      "metadata": {
        "id": "Vu0iR-e_mq-U",
        "outputId": "1bf274ec-4735-4cf3-f0a8-8b9e1be43810",
        "colab": {
          "base_uri": "https://localhost:8080/",
          "height": 248
        }
      },
      "execution_count": 64,
      "outputs": [
        {
          "output_type": "display_data",
          "data": {
            "image/png": "[encoded data removed]",
            "text/plain": [
              "<Figure size 432x288 with 1 Axes>"
            ]
          },
          "metadata": {}
        }
      ]
    },
    {
      "cell_type": "code",
      "source": [
        ""
      ],
      "metadata": {
        "id": "RpgvB_cCnUpD"
      },
      "execution_count": null,
      "outputs": []
    }
  ]
}